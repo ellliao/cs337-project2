{
  "nbformat": 4,
  "nbformat_minor": 0,
  "metadata": {
    "colab": {
      "provenance": []
    },
    "kernelspec": {
      "name": "python3",
      "display_name": "Python 3"
    },
    "language_info": {
      "name": "python"
    }
  },
  "cells": [
    {
      "cell_type": "code",
      "execution_count": null,
      "metadata": {
        "id": "MypqZ7txTmx3"
      },
      "outputs": [],
      "source": [
        "#import from parser.ipynb function\n",
        "from parser import get_recipe_from_url\n",
        "\n",
        "def CI():\n",
        "  CH= [] #store conversational history information list\n",
        "  user_L = input(\"Input the Link here:\") #user input here for link\n",
        "  CH.append(f\"Link: {user_L}\") # store user input link\n",
        "  web_content = get_recipe_from_url(user_L)#parser to get the link content\n",
        "  print(f\"Ready to visit your provided website content now!\")\n",
        "\n",
        "#chat: query these three type of questions\n",
        "  while True:\n",
        "      user_input = input(\"Type Your Query Here Please: \")\n",
        "      if \"name\" in user_input:\n",
        "        print(\"The recipe name is:\", web_content.title)\n",
        "        CH.append(\"Recipe Name:\", web_content.title) # store user input link Recipe Name\n",
        "\n",
        "      elif \"ingredient\" in user_input:\n",
        "        for x in web_content.ingredients:\n",
        "          print(f\"{x.quantity} {x.unit} {x.name}\")\n",
        "          CH.append(f\"Ingredient:{x.quantity} {x.unit} {x.name}\") # store user input link ingredient\n",
        "\n",
        "      elif \"step\" in user_input:\n",
        "        for x in range(len(web_content.steps)):\n",
        "          print(f\"{x + 1}: {web_content.steps[x].text}\\n\")\n",
        "          CH.append(f\"Steps: {x + 1}: {web_content.steps[x].text}\\n\") # store user input link steps\n",
        "      else:\n",
        "          break\n",
        "\n",
        "\n",
        "if __name__ == \"__main__\":\n",
        "    CI()\n",
        "#Test Link: https://www.allrecipes.com/recipe/19644/moussaka/"
      ]
    }
  ]
}