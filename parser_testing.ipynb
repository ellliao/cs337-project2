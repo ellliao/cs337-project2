{
 "cells": [
  {
   "cell_type": "code",
   "execution_count": 1,
   "metadata": {},
   "outputs": [
    {
     "name": "stdout",
     "output_type": "stream",
     "text": [
      "Requirement already satisfied: requests in /Library/Frameworks/Python.framework/Versions/3.10/lib/python3.10/site-packages (2.32.3)\n",
      "Requirement already satisfied: charset-normalizer<4,>=2 in /Library/Frameworks/Python.framework/Versions/3.10/lib/python3.10/site-packages (from requests) (3.4.0)\n",
      "Requirement already satisfied: idna<4,>=2.5 in /Library/Frameworks/Python.framework/Versions/3.10/lib/python3.10/site-packages (from requests) (3.10)\n",
      "Requirement already satisfied: urllib3<3,>=1.21.1 in /Library/Frameworks/Python.framework/Versions/3.10/lib/python3.10/site-packages (from requests) (2.2.3)\n",
      "Requirement already satisfied: certifi>=2017.4.17 in /Library/Frameworks/Python.framework/Versions/3.10/lib/python3.10/site-packages (from requests) (2024.8.30)\n",
      "Note: you may need to restart the kernel to use updated packages.\n"
     ]
    }
   ],
   "source": [
    "%pip install requests"
   ]
  },
  {
   "cell_type": "code",
   "execution_count": 2,
   "metadata": {},
   "outputs": [
    {
     "name": "stdout",
     "output_type": "stream",
     "text": [
      "Collecting en-core-web-md==3.8.0\n",
      "  Downloading https://github.com/explosion/spacy-models/releases/download/en_core_web_md-3.8.0/en_core_web_md-3.8.0-py3-none-any.whl (33.5 MB)\n",
      "\u001b[2K     \u001b[90m━━━━━━━━━━━━━━━━━━━━━━━━━━━━━━━━━━━━━━━━\u001b[0m \u001b[32m33.5/33.5 MB\u001b[0m \u001b[31m5.0 MB/s\u001b[0m eta \u001b[36m0:00:00\u001b[0m00:01\u001b[0m00:01\u001b[0m\n",
      "\u001b[?25h\u001b[38;5;2m✔ Download and installation successful\u001b[0m\n",
      "You can now load the package via spacy.load('en_core_web_md')\n"
     ]
    }
   ],
   "source": [
    "!python3 -m spacy download en_core_web_md"
   ]
  },
  {
   "cell_type": "code",
   "execution_count": 1,
   "metadata": {},
   "outputs": [
    {
     "name": "stdout",
     "output_type": "stream",
     "text": [
      "Sticky Rice With Mango \n",
      "\n",
      "5 1/2 cups glutinous rice\n",
      "3 2/3 cups well-stirred canned unsweetened coconut milk\n",
      "⅓ cup\n",
      "kosher salt\n",
      "1 large mango\n",
      "\n",
      "Rinse 1½ cups glutinous rice in a fine-mesh sieve under cold running water until water runs clear. ['rinse'] [('glutinous rice', Fraction(11, 2))] [] [] []\n",
      "Transfer rice to medium bowl, fill with cold water to cover by 1\", and chill overnight. ['transfer', 'fill', 'chill'] [] ['medium bowl'] [] []\n",
      "Drain rice well in a fine-mesh sieve. ['drain'] [] [] [] []\n",
      "Set sieve over a large deep saucepan of simmering water (sieve should not touch water). ['set'] [] ['a large deep saucepan'] [] []\n",
      "Cover with a kitchen towel and lid (towel will help lock in steam. ['cover'] [] [] [] []\n",
      "But be cautious the it doesn’t droop down to an open flame burner), and steam rice 30–40 minutes, or until tender (check water level in pan occasionally, adding more if necessary). ['droop', 'rice', 'until'] [] ['tender', 'pan'] ['30–40 minutes'] []\n",
      "While rice is cooking, bring 1 cup well-stirred canned unsweetened coconut milk , ⅓ cup (67 g) granulated sugar , and ¼ tsp. ['bring'] [('well-stirred canned unsweetened coconut milk', Fraction(1, 1))] ['⅓ cup'] [] []\n",
      "Kosher salt to a boil in a small saucepan, stirring regularly, until sugar is dissolved. ['kosher'] [('kosher salt', None)] ['a small saucepan'] [] ['a boil']\n",
      "Remove from heat and keep mixture warm. ['remove', 'keep'] [] [] [] ['heat']\n",
      "Transfer cooked rice to a bowl and stir in coconut milk mixture. ['transfer', 'stir'] [('coconut milk mixture', Fraction(8, 3))] ['a bowl'] [] []\n",
      "Let rice stand, covered, 30 minutes, or until coconut milk mixture is absorbed. ['let', 'covered'] [] [] ['30 minutes'] []\n",
      "Rice may be prepared up to this point 2 hours ahead and kept covered at room temperature. ['prepared', 'kept'] [] [] ['2 hours'] ['room temperature']\n",
      "Meanwhile, boil remaining ⅓ cup coconut milk with remaining 3 Tbsp. ['boil'] [] [] [] []\n",
      "Granulated sugar on medium heat, stirring occasionally, until sugar is dissolved and mixture has thickened slightly, about 1 minute. ['granulated'] [] [] ['about 1 minute'] ['medium heat']\n",
      "Transfer sauce to a small bowl and chill until cool. ['transfer'] [] ['a small bowl'] [] ['chill']\n",
      "To serve, mold ¼ cup servings of coconut rice on dessert plates. ['serve'] [] ['dessert plates'] [] []\n",
      "Drizzle plates with sweet coconut sauce and sprinkle 1 Tbsp. ['drizzle'] [] [] [] []\n",
      "Sesame seeds, toasted lightly , over rice. ['toasted'] [] [] [] []\n",
      "Divide 1 large mango, peeled, pitted, and cut into thin slices , among plates. ['divide'] [('large mango', Fraction(1, 1))] ['plates'] [] []\n",
      "Join the home cook community. ['join'] [] [] [] []\n",
      "Food Innovation Group. ['Group'] [] [] [] []\n"
     ]
    }
   ],
   "source": [
    "import parser as p\n",
    "import util as u\n",
    "\n",
    "recipe = p.get_recipe_from_url(\"https://www.epicurious.com/recipes/food/views/sticky-rice-with-mango-12066\")\n",
    "# recipe = p.get_recipe_from_url(\"https://www.seriouseats.com/parker-house-rolls-recipe-8733832\")\n",
    "# recipe = p.get_recipe_from_url(\"https://www.allrecipes.com/recipe/19644/moussaka/\")\n",
    "# recipe = p.get_recipe_from_url(\"https://www.allrecipes.com/recipe/218091/classic-and-simple-meat-lasagna/\")\n",
    "# recipe = p.get_recipe_from_url(\"https://www.allrecipes.com/recipe/230238/gingerbread-men-cookies/\")\n",
    "print(recipe.title, '\\n')\n",
    "for ingr in recipe.ingredients:\n",
    "    print(u.fraction_to_str(ingr.quantity) if ingr.quantity else '',\n",
    "          ' ' if ingr.quantity else '', ingr.unit if ingr.unit else '',\n",
    "          ' ' if ingr.unit else '', ingr.name, sep='')\n",
    "print()\n",
    "for step in recipe.steps:\n",
    "    print(step.text, step.methods, [(ingr.name, ingr.quantity) for ingr in step.ingredients],\n",
    "          step.tools, step.times, step.temps)"
   ]
  },
  {
   "cell_type": "code",
   "execution_count": 3,
   "metadata": {},
   "outputs": [
    {
     "name": "stdout",
     "output_type": "stream",
     "text": [
      "1½ NUM nummod cups NOUN [] CARDINAL\n",
      "cups NOUN ROOT cups NOUN [1½, rice] \n",
      "glutinous PROPN compound rice NOUN [] \n",
      "rice NOUN appos cups NOUN [glutinous] \n",
      "\n",
      "1½ cups cups ROOT cups 0 2 1\n",
      "glutinous rice rice appos cups 2 4 3\n",
      "\n",
      "1½ CARDINAL\n"
     ]
    }
   ],
   "source": [
    "# text = \"lay eggplant slices on paper towels\"\n",
    "text = \"1½ cups glutinous rice\"\n",
    "# text = \"cook and stir until beef is browned, 8 to 10 minutes\"\n",
    "# text = \"scald milk in a saucepan over medium heat\"\n",
    "# text = \"meanwhile, place ground beef, garlic, oregano, garlic powder, salt, and black pepper in a large skillet over medium heat\"\n",
    "# text = \"add lasagna noodles and cook for 10 minutes or until al dente\"\n",
    "# text = \"season béchamel sauce with salt and white pepper\"\n",
    "# text = \"serve hot and enjoy!\"\n",
    "# text = \"bake in the preheated oven until edges of cookies are set and just begin to brown, 8 to 10 minutes\"\n",
    "# text = \"pour béchamel sauce on top and sprinkle with remaining 1/4 teaspoon nutmeg\"\n",
    "# text = \"cover with remaining eggplant and sprinkle another 1/2 cup cheese on top\"\n",
    "# text = \"add parsley, fines herbs, cinnamon, and 1/4 teaspoon nutmeg\"\n",
    "\n",
    "doc = u.nlp(text)\n",
    "for token in doc:\n",
    "    print(token.text, token.pos_, token.dep_, token.head.text, token.head.pos_,\n",
    "            [child for child in token.children], token.ent_type_)\n",
    "print()\n",
    "for chunk in doc.noun_chunks:\n",
    "    print(chunk.text, chunk.root.text, chunk.root.dep_,\n",
    "            chunk.root.head.text, chunk.start, chunk.end, chunk.root.i)\n",
    "print()\n",
    "for ent in doc.ents:\n",
    "    print(ent.text, ent.label_)"
   ]
  },
  {
   "cell_type": "code",
   "execution_count": 1,
   "metadata": {},
   "outputs": [
    {
     "name": "stdout",
     "output_type": "stream",
     "text": [
      "[Synset('yeast.n.01'), Synset('yeast.n.02')]\n",
      "[[Synset('entity.n.01'), Synset('physical_entity.n.01'), Synset('matter.n.03'), Synset('substance.n.07'), Synset('leaven.n.01'), Synset('yeast.n.01')]]\n",
      "[[Synset('entity.n.01'), Synset('physical_entity.n.01'), Synset('object.n.01'), Synset('whole.n.02'), Synset('living_thing.n.01'), Synset('organism.n.01'), Synset('fungus.n.01'), Synset('yeast.n.02')]]\n",
      "\n",
      "[Synset('bake.v.01'), Synset('bake.v.02'), Synset('broil.v.02'), Synset('bake.v.04')]\n",
      "[[Synset('change.v.02'), Synset('change_integrity.v.01'), Synset('cook.v.03'), Synset('bake.v.01')]]\n",
      "[[Synset('make.v.03'), Synset('create_from_raw_material.v.01'), Synset('bake.v.02')]]\n",
      "[[Synset('change.v.01'), Synset('heat.v.01'), Synset('broil.v.02')]]\n",
      "[[Synset('be.v.01'), Synset('bake.v.04')]]\n",
      "\n",
      "[Synset('saute.v.01')]\n",
      "[[Synset('change.v.02'), Synset('change_integrity.v.01'), Synset('cook.v.03'), Synset('fry.v.02'), Synset('saute.v.01')]]\n",
      "\n"
     ]
    },
    {
     "ename": "NameError",
     "evalue": "name 'u' is not defined",
     "output_type": "error",
     "traceback": [
      "\u001b[0;31m---------------------------------------------------------------------------\u001b[0m",
      "\u001b[0;31mNameError\u001b[0m                                 Traceback (most recent call last)",
      "Cell \u001b[0;32mIn[1], line 20\u001b[0m\n\u001b[1;32m     18\u001b[0m print_verb_paths(\u001b[38;5;124m\"\u001b[39m\u001b[38;5;124mbake\u001b[39m\u001b[38;5;124m\"\u001b[39m)\n\u001b[1;32m     19\u001b[0m print_verb_paths(\u001b[38;5;124m\"\u001b[39m\u001b[38;5;124msaute\u001b[39m\u001b[38;5;124m\"\u001b[39m)\n\u001b[0;32m---> 20\u001b[0m \u001b[38;5;28mprint\u001b[39m(\u001b[43mu\u001b[49m\u001b[38;5;241m.\u001b[39mNounType\u001b[38;5;241m.\u001b[39mfrom_str(\u001b[38;5;124m\"\u001b[39m\u001b[38;5;124mseason\u001b[39m\u001b[38;5;124m\"\u001b[39m))\n\u001b[1;32m     21\u001b[0m \u001b[38;5;28mprint\u001b[39m(u\u001b[38;5;241m.\u001b[39mNounType\u001b[38;5;241m.\u001b[39mfrom_str(\u001b[38;5;124m\"\u001b[39m\u001b[38;5;124mtin\u001b[39m\u001b[38;5;124m\"\u001b[39m))\n\u001b[1;32m     22\u001b[0m \u001b[38;5;28mprint\u001b[39m(u\u001b[38;5;241m.\u001b[39mNounType\u001b[38;5;241m.\u001b[39mfrom_str(\u001b[38;5;124m\"\u001b[39m\u001b[38;5;124mmixer\u001b[39m\u001b[38;5;124m\"\u001b[39m))\n",
      "\u001b[0;31mNameError\u001b[0m: name 'u' is not defined"
     ]
    }
   ],
   "source": [
    "from nltk.corpus import wordnet as wn\n",
    "\n",
    "def print_hypernym_paths(noun: str):\n",
    "    mix_sets = wn.synsets(noun, wn.NOUN)\n",
    "    print(mix_sets)\n",
    "    for s in mix_sets:\n",
    "        print(s.hypernym_paths())\n",
    "    print()\n",
    "\n",
    "def print_verb_paths(verb: str):\n",
    "    sets = wn.synsets(verb, wn.VERB)\n",
    "    print(sets)\n",
    "    for s in sets:\n",
    "        print(s.hypernym_paths())\n",
    "    print()\n",
    "\n",
    "print_hypernym_paths(\"yeast\")\n",
    "print_verb_paths(\"bake\")\n",
    "print_verb_paths(\"saute\")\n",
    "print(u.NounType.from_str(\"season\"))\n",
    "print(u.NounType.from_str(\"tin\"))\n",
    "print(u.NounType.from_str(\"mixer\"))\n",
    "print(u.NounType.from_str(\"men\"))"
   ]
  }
 ],
 "metadata": {
  "kernelspec": {
   "display_name": "Python 3",
   "language": "python",
   "name": "python3"
  },
  "language_info": {
   "codemirror_mode": {
    "name": "ipython",
    "version": 3
   },
   "file_extension": ".py",
   "mimetype": "text/x-python",
   "name": "python",
   "nbconvert_exporter": "python",
   "pygments_lexer": "ipython3",
   "version": "3.10.2"
  }
 },
 "nbformat": 4,
 "nbformat_minor": 2
}
