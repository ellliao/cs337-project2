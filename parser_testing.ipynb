{
 "cells": [
  {
   "cell_type": "code",
   "execution_count": 1,
   "metadata": {},
   "outputs": [
    {
     "name": "stdout",
     "output_type": "stream",
     "text": [
      "Requirement already satisfied: requests in /Library/Frameworks/Python.framework/Versions/3.10/lib/python3.10/site-packages (2.32.3)\n",
      "Requirement already satisfied: charset-normalizer<4,>=2 in /Library/Frameworks/Python.framework/Versions/3.10/lib/python3.10/site-packages (from requests) (3.4.0)\n",
      "Requirement already satisfied: idna<4,>=2.5 in /Library/Frameworks/Python.framework/Versions/3.10/lib/python3.10/site-packages (from requests) (3.10)\n",
      "Requirement already satisfied: urllib3<3,>=1.21.1 in /Library/Frameworks/Python.framework/Versions/3.10/lib/python3.10/site-packages (from requests) (2.2.3)\n",
      "Requirement already satisfied: certifi>=2017.4.17 in /Library/Frameworks/Python.framework/Versions/3.10/lib/python3.10/site-packages (from requests) (2024.8.30)\n",
      "Note: you may need to restart the kernel to use updated packages.\n"
     ]
    }
   ],
   "source": [
    "%pip install requests"
   ]
  },
  {
   "cell_type": "code",
   "execution_count": 2,
   "metadata": {},
   "outputs": [
    {
     "name": "stdout",
     "output_type": "stream",
     "text": [
      "Collecting en-core-web-md==3.8.0\n",
      "  Downloading https://github.com/explosion/spacy-models/releases/download/en_core_web_md-3.8.0/en_core_web_md-3.8.0-py3-none-any.whl (33.5 MB)\n",
      "\u001b[2K     \u001b[90m━━━━━━━━━━━━━━━━━━━━━━━━━━━━━━━━━━━━━━━━\u001b[0m \u001b[32m33.5/33.5 MB\u001b[0m \u001b[31m5.0 MB/s\u001b[0m eta \u001b[36m0:00:00\u001b[0m00:01\u001b[0m00:01\u001b[0m\n",
      "\u001b[?25h\u001b[38;5;2m✔ Download and installation successful\u001b[0m\n",
      "You can now load the package via spacy.load('en_core_web_md')\n"
     ]
    }
   ],
   "source": [
    "!python3 -m spacy download en_core_web_md"
   ]
  },
  {
   "cell_type": "code",
   "execution_count": 1,
   "metadata": {},
   "outputs": [
    {
     "name": "stdout",
     "output_type": "stream",
     "text": [
      "These Unbelievably Fluffy Dinner Rolls Have Taken Over Restaurant Tables. Here's How Easy It Is to Make Them at Home \n",
      "\n",
      "4 1/4 cups all-purpose flour\n",
      "1 tablespoon kosher salt\n",
      "290 ml) whole milk\n",
      "1/4 cup granulated sugar\n",
      "1 large egg\n",
      "4 tablespoons unsalted butter\n",
      "4 tablespoons unsalted butter\n",
      "1 large egg\n",
      "1 teaspoon (5ml) tap water\n",
      "1 teaspoon salt\n",
      "\n",
      "In the bowl of a stand mixer, whisk together flour, yeast, and salt until combined. ['whisk'] [('flour', Fraction(17, 4)), ('salt', Fraction(1, 1))] ['the bowl', 'a stand mixer'] [] []\n",
      "In medium bowl or 2-cup liquid measuring cup, whisk milk, sugar, egg, and egg yolk until combined. ['in'] [('whisk milk', Fraction(290, 1)), ('egg', Fraction(1, 1)), ('egg yolk', Fraction(1, 1))] ['medium bowl', '2-cup liquid measuring cup'] [] []\n",
      "Set mixer bowl into stand mixer base and fit mixer with dough hook. ['set'] [] ['mixer bowl', 'fit mixer'] [] []\n",
      "On medium-low speed, slowly pour in the liquid mixture until dough comes together and no dry flour remains, about 2 minutes, scraping down bowl and dough hook frequently. ['pour'] [] [] ['about 2 minutes'] []\n",
      "Increase speed to medium and, with mixer running, add 4 tablespoons butter, 1 piece at a time, allowing each piece to incorporate before adding next, about 2 minutes total, scraping down bowl and dough hook as needed. ['increase', 'add'] [('unsalted butter', Fraction(4, 1)), ('unsalted butter', Fraction(4, 1))] [] ['about 2 minutes'] []\n",
      "Continue to knead on medium speed until dough is elastic, sticky, and pulls away cleanly from sides of bowl, about 10 minutes longer. ['continue'] [] ['bowl'] ['about 10 minutes'] []\n",
      "Transfer dough to a lightly greased large bowl. ['transfer'] [] ['a lightly greased large bowl'] [] []\n",
      "Cover with plastic wrap or a kitchen towel and set aside to proof at room temperature until about doubled in size and, about 60 to 90 minutes. ['cover', 'set'] [] [] [] ['room temperature']\n",
      "(Dough is properly proofed when it slowly springs back to its original shape when gently pressed with your knuckle). ['proofed'] [] [] [] []\n",
      "Punch down dough and turn dough out onto a lightly floured work surface. ['punch', 'turn'] [] [] [] []\n",
      "Divide dough into 15 even portions (about 2.25 ounces. ['divide'] [] [] [] []\n",
      "65g each). ['65'] [] [] [] []\n",
      "Working with 1 dough portion at a time, cup dough with your palm and roll against counter into a smooth, tight ball. ['cup'] [] [] [] []\n",
      "Cover balls loosely with a clean towel or greased plastic wrap and let rest for 10 minutes. ['cover', 'greased', 'let'] [] [] ['10 minutes'] []\n",
      "Working with one dough ball at a time, gently stretch dough into a rough rectangular shape, about 2 inches wide by 5 inches long. ['stretch'] [] [] [] []\n",
      "Brush the top side with a generous layer of melted butter and fold dough in half over itself, stretching the top half slightly over the edge of the bottom half to create a square that measures roughly 2 inches x 2 inches. ['brush', 'fold'] [] [] [] []\n",
      "Transfer to a buttered 9- x 13-inch baking pan, flat side down. ['transfer'] [] [] [] []\n",
      "Repeat with remaining dough balls, arranging folded dough squares into pan in 3 rows of 5. ['repeat'] [] ['pan'] [] []\n",
      "Cover pan with a kitchen towel or loosely with a piece of greased plastic wrap and proof at room temperature until rolls are puffed but not quite doubled in size, and dough springs back slowly with poked, about 45 minutes. ['cover'] [] ['pan'] ['about 45 minutes'] ['room temperature']\n",
      "6. ['6'] [] [] [] []\n",
      "While buns proof, adjust oven rack to middle position and preheat oven to 350°F (175℃). ['adjust'] [] ['preheat oven'] [] []\n",
      "When ready to bake, in a small bowl, beat egg and water until smooth. ['beat'] [('water', Fraction(1, 1))] ['a small bowl'] [] []\n",
      "Using a pastry brush, brush the tops of the rolls evenly with the egg wash. ['using', 'brush'] [] [] [] []\n",
      "Bake until golden brown and an instant read thermometer inserted in center of rolls registers 190℉ (87℃), 20 to 30 minutes. ['bake', 'registers'] [] [] ['20 to 30 minutes'] []\n",
      "Immediately brush hot rolls with reserved melted butter and sprinkle with flaky sea salt. ['brush', 'sprinkle'] [] [] [] []\n",
      "Let cool slightly, about 20 minutes, before serving warm. ['let'] [] [] ['about 20 minutes'] []\n",
      "Or let cool completely in pan on a wire rack, about 1 hour, to serve at room temperature. ['let'] [] ['pan'] ['about 1 hour'] ['room temperature']\n",
      "Stand-mixer with dough hook, pastry brush, 9- x 13-inch baking dish. ['mixer'] [] ['stand-mixer', 'x 13-inch baking dish'] [] []\n",
      "The baked rolls can be stored covered at room temperature for 1 day. ['stored'] [] [] ['1 day'] ['room temperature']\n",
      "To refresh them before serving, wrap them in aluminum foil and heat them in a 350°F (175℃) oven until warmed through, about 15 minutes. ['refresh', 'wrap', 'heat'] [] [] ['about 15 minutes'] []\n"
     ]
    }
   ],
   "source": [
    "import parser as p\n",
    "import util as u\n",
    "\n",
    "recipe = p.get_recipe_from_url(\"https://www.seriouseats.com/parker-house-rolls-recipe-8733832\")\n",
    "# recipe = p.get_recipe_from_url(\"https://www.allrecipes.com/recipe/19644/moussaka/\")\n",
    "# recipe = p.get_recipe_from_url(\"https://www.allrecipes.com/recipe/218091/classic-and-simple-meat-lasagna/\")\n",
    "# recipe = p.get_recipe_from_url(\"https://www.allrecipes.com/recipe/230238/gingerbread-men-cookies/\")\n",
    "print(recipe.title, '\\n')\n",
    "for ingr in recipe.ingredients:\n",
    "    print(u.fraction_to_str(ingr.quantity) if ingr.quantity else '',\n",
    "          ' ' if ingr.quantity else '', ingr.unit if ingr.unit else '',\n",
    "          ' ' if ingr.unit else '', ingr.name, sep='')\n",
    "print()\n",
    "for step in recipe.steps:\n",
    "    print(step.text, step.methods, [(ingr.name, ingr.quantity) for ingr in step.ingredients],\n",
    "          step.tools, step.times, step.temps)"
   ]
  },
  {
   "cell_type": "code",
   "execution_count": 2,
   "metadata": {},
   "outputs": [
    {
     "name": "stdout",
     "output_type": "stream",
     "text": [
      "heat VERB ROOT heat VERB [them, in, warmed] \n",
      "them PRON dobj heat VERB [] \n",
      "in ADP prep heat VERB [oven] \n",
      "a DET det oven NOUN [] \n",
      "350 NUM nummod ° NOUN [] QUANTITY\n",
      "° NOUN nummod oven NOUN [350, F] QUANTITY\n",
      "F PROPN dep ° NOUN [(, ℃, )] QUANTITY\n",
      "( PUNCT punct F PROPN [] \n",
      "175 NUM nummod ℃ PROPN [] QUANTITY\n",
      "℃ PROPN appos F PROPN [175] QUANTITY\n",
      ") PUNCT punct F PROPN [] \n",
      "oven NOUN pobj in ADP [a, °] \n",
      "until SCONJ mark warmed VERB [] \n",
      "warmed VERB advcl heat VERB [until, through] \n",
      "through ADP prep warmed VERB [] \n",
      "\n",
      "them them dobj heat 1 2 1\n",
      "175℃ ℃ appos F 8 10 9\n",
      "\n",
      "350°F QUANTITY\n",
      "175℃ QUANTITY\n"
     ]
    }
   ],
   "source": [
    "# text = \"lay eggplant slices on paper towels\"\n",
    "text = \"heat them in a 350°F (175℃) oven until warmed through\"\n",
    "# text = \"cook and stir until beef is browned, 8 to 10 minutes\"\n",
    "# text = \"scald milk in a saucepan over medium heat\"\n",
    "# text = \"meanwhile, place ground beef, garlic, oregano, garlic powder, salt, and black pepper in a large skillet over medium heat\"\n",
    "# text = \"add lasagna noodles and cook for 10 minutes or until al dente\"\n",
    "# text = \"season béchamel sauce with salt and white pepper\"\n",
    "# text = \"serve hot and enjoy!\"\n",
    "# text = \"bake in the preheated oven until edges of cookies are set and just begin to brown, 8 to 10 minutes\"\n",
    "# text = \"pour béchamel sauce on top and sprinkle with remaining 1/4 teaspoon nutmeg\"\n",
    "# text = \"cover with remaining eggplant and sprinkle another 1/2 cup cheese on top\"\n",
    "# text = \"add parsley, fines herbs, cinnamon, and 1/4 teaspoon nutmeg\"\n",
    "\n",
    "doc = u.nlp(text)\n",
    "for token in doc:\n",
    "    print(token.text, token.pos_, token.dep_, token.head.text, token.head.pos_,\n",
    "            [child for child in token.children], token.ent_type_)\n",
    "print()\n",
    "for chunk in doc.noun_chunks:\n",
    "    print(chunk.text, chunk.root.text, chunk.root.dep_,\n",
    "            chunk.root.head.text, chunk.start, chunk.end, chunk.root.i)\n",
    "print()\n",
    "for ent in doc.ents:\n",
    "    print(ent.text, ent.label_)"
   ]
  },
  {
   "cell_type": "code",
   "execution_count": 1,
   "metadata": {},
   "outputs": [
    {
     "name": "stdout",
     "output_type": "stream",
     "text": [
      "[Synset('yeast.n.01'), Synset('yeast.n.02')]\n",
      "[[Synset('entity.n.01'), Synset('physical_entity.n.01'), Synset('matter.n.03'), Synset('substance.n.07'), Synset('leaven.n.01'), Synset('yeast.n.01')]]\n",
      "[[Synset('entity.n.01'), Synset('physical_entity.n.01'), Synset('object.n.01'), Synset('whole.n.02'), Synset('living_thing.n.01'), Synset('organism.n.01'), Synset('fungus.n.01'), Synset('yeast.n.02')]]\n",
      "\n",
      "[Synset('bake.v.01'), Synset('bake.v.02'), Synset('broil.v.02'), Synset('bake.v.04')]\n",
      "[[Synset('change.v.02'), Synset('change_integrity.v.01'), Synset('cook.v.03'), Synset('bake.v.01')]]\n",
      "[[Synset('make.v.03'), Synset('create_from_raw_material.v.01'), Synset('bake.v.02')]]\n",
      "[[Synset('change.v.01'), Synset('heat.v.01'), Synset('broil.v.02')]]\n",
      "[[Synset('be.v.01'), Synset('bake.v.04')]]\n",
      "\n",
      "[Synset('saute.v.01')]\n",
      "[[Synset('change.v.02'), Synset('change_integrity.v.01'), Synset('cook.v.03'), Synset('fry.v.02'), Synset('saute.v.01')]]\n",
      "\n"
     ]
    },
    {
     "ename": "NameError",
     "evalue": "name 'u' is not defined",
     "output_type": "error",
     "traceback": [
      "\u001b[0;31m---------------------------------------------------------------------------\u001b[0m",
      "\u001b[0;31mNameError\u001b[0m                                 Traceback (most recent call last)",
      "Cell \u001b[0;32mIn[1], line 20\u001b[0m\n\u001b[1;32m     18\u001b[0m print_verb_paths(\u001b[38;5;124m\"\u001b[39m\u001b[38;5;124mbake\u001b[39m\u001b[38;5;124m\"\u001b[39m)\n\u001b[1;32m     19\u001b[0m print_verb_paths(\u001b[38;5;124m\"\u001b[39m\u001b[38;5;124msaute\u001b[39m\u001b[38;5;124m\"\u001b[39m)\n\u001b[0;32m---> 20\u001b[0m \u001b[38;5;28mprint\u001b[39m(\u001b[43mu\u001b[49m\u001b[38;5;241m.\u001b[39mNounType\u001b[38;5;241m.\u001b[39mfrom_str(\u001b[38;5;124m\"\u001b[39m\u001b[38;5;124mseason\u001b[39m\u001b[38;5;124m\"\u001b[39m))\n\u001b[1;32m     21\u001b[0m \u001b[38;5;28mprint\u001b[39m(u\u001b[38;5;241m.\u001b[39mNounType\u001b[38;5;241m.\u001b[39mfrom_str(\u001b[38;5;124m\"\u001b[39m\u001b[38;5;124mtin\u001b[39m\u001b[38;5;124m\"\u001b[39m))\n\u001b[1;32m     22\u001b[0m \u001b[38;5;28mprint\u001b[39m(u\u001b[38;5;241m.\u001b[39mNounType\u001b[38;5;241m.\u001b[39mfrom_str(\u001b[38;5;124m\"\u001b[39m\u001b[38;5;124mmixer\u001b[39m\u001b[38;5;124m\"\u001b[39m))\n",
      "\u001b[0;31mNameError\u001b[0m: name 'u' is not defined"
     ]
    }
   ],
   "source": [
    "from nltk.corpus import wordnet as wn\n",
    "\n",
    "def print_hypernym_paths(noun: str):\n",
    "    mix_sets = wn.synsets(noun, wn.NOUN)\n",
    "    print(mix_sets)\n",
    "    for s in mix_sets:\n",
    "        print(s.hypernym_paths())\n",
    "    print()\n",
    "\n",
    "def print_verb_paths(verb: str):\n",
    "    sets = wn.synsets(verb, wn.VERB)\n",
    "    print(sets)\n",
    "    for s in sets:\n",
    "        print(s.hypernym_paths())\n",
    "    print()\n",
    "\n",
    "print_hypernym_paths(\"yeast\")\n",
    "print_verb_paths(\"bake\")\n",
    "print_verb_paths(\"saute\")\n",
    "print(u.NounType.from_str(\"season\"))\n",
    "print(u.NounType.from_str(\"tin\"))\n",
    "print(u.NounType.from_str(\"mixer\"))\n",
    "print(u.NounType.from_str(\"men\"))"
   ]
  }
 ],
 "metadata": {
  "kernelspec": {
   "display_name": "Python 3",
   "language": "python",
   "name": "python3"
  },
  "language_info": {
   "codemirror_mode": {
    "name": "ipython",
    "version": 3
   },
   "file_extension": ".py",
   "mimetype": "text/x-python",
   "name": "python",
   "nbconvert_exporter": "python",
   "pygments_lexer": "ipython3",
   "version": "3.10.2"
  }
 },
 "nbformat": 4,
 "nbformat_minor": 2
}
