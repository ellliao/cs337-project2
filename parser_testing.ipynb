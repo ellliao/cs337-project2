{
 "cells": [
  {
   "cell_type": "code",
   "execution_count": 1,
   "metadata": {},
   "outputs": [
    {
     "name": "stdout",
     "output_type": "stream",
     "text": [
      "Requirement already satisfied: requests in /Library/Frameworks/Python.framework/Versions/3.10/lib/python3.10/site-packages (2.32.3)\n",
      "Requirement already satisfied: charset-normalizer<4,>=2 in /Library/Frameworks/Python.framework/Versions/3.10/lib/python3.10/site-packages (from requests) (3.4.0)\n",
      "Requirement already satisfied: idna<4,>=2.5 in /Library/Frameworks/Python.framework/Versions/3.10/lib/python3.10/site-packages (from requests) (3.10)\n",
      "Requirement already satisfied: urllib3<3,>=1.21.1 in /Library/Frameworks/Python.framework/Versions/3.10/lib/python3.10/site-packages (from requests) (2.2.3)\n",
      "Requirement already satisfied: certifi>=2017.4.17 in /Library/Frameworks/Python.framework/Versions/3.10/lib/python3.10/site-packages (from requests) (2024.8.30)\n",
      "Note: you may need to restart the kernel to use updated packages.\n"
     ]
    }
   ],
   "source": [
    "%pip install requests"
   ]
  },
  {
   "cell_type": "code",
   "execution_count": 2,
   "metadata": {},
   "outputs": [
    {
     "ename": "UnboundLocalError",
     "evalue": "local variable 'child' referenced before assignment",
     "output_type": "error",
     "traceback": [
      "\u001b[0;31m---------------------------------------------------------------------------\u001b[0m",
      "\u001b[0;31mKeyboardInterrupt\u001b[0m                         Traceback (most recent call last)",
      "File \u001b[0;32m~/Library/Python/3.10/lib/python/site-packages/IPython/utils/_process_posix.py:148\u001b[0m, in \u001b[0;36mProcessHandler.system\u001b[0;34m(self, cmd)\u001b[0m\n\u001b[1;32m    147\u001b[0m \u001b[38;5;28;01melse\u001b[39;00m:\n\u001b[0;32m--> 148\u001b[0m     child \u001b[38;5;241m=\u001b[39m \u001b[43mpexpect\u001b[49m\u001b[38;5;241;43m.\u001b[39;49m\u001b[43mspawn\u001b[49m\u001b[43m(\u001b[49m\u001b[38;5;28;43mself\u001b[39;49m\u001b[38;5;241;43m.\u001b[39;49m\u001b[43msh\u001b[49m\u001b[43m,\u001b[49m\u001b[43m \u001b[49m\u001b[43margs\u001b[49m\u001b[38;5;241;43m=\u001b[39;49m\u001b[43m[\u001b[49m\u001b[38;5;124;43m'\u001b[39;49m\u001b[38;5;124;43m-c\u001b[39;49m\u001b[38;5;124;43m'\u001b[39;49m\u001b[43m,\u001b[49m\u001b[43m \u001b[49m\u001b[43mcmd\u001b[49m\u001b[43m]\u001b[49m\u001b[43m)\u001b[49m  \u001b[38;5;66;03m# Vanilla Pexpect\u001b[39;00m\n\u001b[1;32m    149\u001b[0m flush \u001b[38;5;241m=\u001b[39m sys\u001b[38;5;241m.\u001b[39mstdout\u001b[38;5;241m.\u001b[39mflush\n",
      "File \u001b[0;32m~/Library/Python/3.10/lib/python/site-packages/pexpect/pty_spawn.py:205\u001b[0m, in \u001b[0;36mspawn.__init__\u001b[0;34m(self, command, args, timeout, maxread, searchwindowsize, logfile, cwd, env, ignore_sighup, echo, preexec_fn, encoding, codec_errors, dimensions, use_poll)\u001b[0m\n\u001b[1;32m    204\u001b[0m \u001b[38;5;28;01melse\u001b[39;00m:\n\u001b[0;32m--> 205\u001b[0m     \u001b[38;5;28;43mself\u001b[39;49m\u001b[38;5;241;43m.\u001b[39;49m\u001b[43m_spawn\u001b[49m\u001b[43m(\u001b[49m\u001b[43mcommand\u001b[49m\u001b[43m,\u001b[49m\u001b[43m \u001b[49m\u001b[43margs\u001b[49m\u001b[43m,\u001b[49m\u001b[43m \u001b[49m\u001b[43mpreexec_fn\u001b[49m\u001b[43m,\u001b[49m\u001b[43m \u001b[49m\u001b[43mdimensions\u001b[49m\u001b[43m)\u001b[49m\n\u001b[1;32m    206\u001b[0m \u001b[38;5;28mself\u001b[39m\u001b[38;5;241m.\u001b[39muse_poll \u001b[38;5;241m=\u001b[39m use_poll\n",
      "File \u001b[0;32m~/Library/Python/3.10/lib/python/site-packages/pexpect/pty_spawn.py:303\u001b[0m, in \u001b[0;36mspawn._spawn\u001b[0;34m(self, command, args, preexec_fn, dimensions)\u001b[0m\n\u001b[1;32m    300\u001b[0m     \u001b[38;5;28mself\u001b[39m\u001b[38;5;241m.\u001b[39margs \u001b[38;5;241m=\u001b[39m [a \u001b[38;5;28;01mif\u001b[39;00m \u001b[38;5;28misinstance\u001b[39m(a, \u001b[38;5;28mbytes\u001b[39m) \u001b[38;5;28;01melse\u001b[39;00m a\u001b[38;5;241m.\u001b[39mencode(\u001b[38;5;28mself\u001b[39m\u001b[38;5;241m.\u001b[39mencoding)\n\u001b[1;32m    301\u001b[0m                  \u001b[38;5;28;01mfor\u001b[39;00m a \u001b[38;5;129;01min\u001b[39;00m \u001b[38;5;28mself\u001b[39m\u001b[38;5;241m.\u001b[39margs]\n\u001b[0;32m--> 303\u001b[0m \u001b[38;5;28mself\u001b[39m\u001b[38;5;241m.\u001b[39mptyproc \u001b[38;5;241m=\u001b[39m \u001b[38;5;28;43mself\u001b[39;49m\u001b[38;5;241;43m.\u001b[39;49m\u001b[43m_spawnpty\u001b[49m\u001b[43m(\u001b[49m\u001b[38;5;28;43mself\u001b[39;49m\u001b[38;5;241;43m.\u001b[39;49m\u001b[43margs\u001b[49m\u001b[43m,\u001b[49m\u001b[43m \u001b[49m\u001b[43menv\u001b[49m\u001b[38;5;241;43m=\u001b[39;49m\u001b[38;5;28;43mself\u001b[39;49m\u001b[38;5;241;43m.\u001b[39;49m\u001b[43menv\u001b[49m\u001b[43m,\u001b[49m\n\u001b[1;32m    304\u001b[0m \u001b[43m                             \u001b[49m\u001b[43mcwd\u001b[49m\u001b[38;5;241;43m=\u001b[39;49m\u001b[38;5;28;43mself\u001b[39;49m\u001b[38;5;241;43m.\u001b[39;49m\u001b[43mcwd\u001b[49m\u001b[43m,\u001b[49m\u001b[43m \u001b[49m\u001b[38;5;241;43m*\u001b[39;49m\u001b[38;5;241;43m*\u001b[39;49m\u001b[43mkwargs\u001b[49m\u001b[43m)\u001b[49m\n\u001b[1;32m    306\u001b[0m \u001b[38;5;28mself\u001b[39m\u001b[38;5;241m.\u001b[39mpid \u001b[38;5;241m=\u001b[39m \u001b[38;5;28mself\u001b[39m\u001b[38;5;241m.\u001b[39mptyproc\u001b[38;5;241m.\u001b[39mpid\n",
      "File \u001b[0;32m~/Library/Python/3.10/lib/python/site-packages/pexpect/pty_spawn.py:315\u001b[0m, in \u001b[0;36mspawn._spawnpty\u001b[0;34m(self, args, **kwargs)\u001b[0m\n\u001b[1;32m    314\u001b[0m \u001b[38;5;250m\u001b[39m\u001b[38;5;124;03m'''Spawn a pty and return an instance of PtyProcess.'''\u001b[39;00m\n\u001b[0;32m--> 315\u001b[0m \u001b[38;5;28;01mreturn\u001b[39;00m \u001b[43mptyprocess\u001b[49m\u001b[38;5;241;43m.\u001b[39;49m\u001b[43mPtyProcess\u001b[49m\u001b[38;5;241;43m.\u001b[39;49m\u001b[43mspawn\u001b[49m\u001b[43m(\u001b[49m\u001b[43margs\u001b[49m\u001b[43m,\u001b[49m\u001b[43m \u001b[49m\u001b[38;5;241;43m*\u001b[39;49m\u001b[38;5;241;43m*\u001b[39;49m\u001b[43mkwargs\u001b[49m\u001b[43m)\u001b[49m\n",
      "File \u001b[0;32m~/Library/Python/3.10/lib/python/site-packages/ptyprocess/ptyprocess.py:315\u001b[0m, in \u001b[0;36mPtyProcess.spawn\u001b[0;34m(cls, argv, cwd, env, echo, preexec_fn, dimensions, pass_fds)\u001b[0m\n\u001b[1;32m    314\u001b[0m os\u001b[38;5;241m.\u001b[39mclose(exec_err_pipe_write)\n\u001b[0;32m--> 315\u001b[0m exec_err_data \u001b[38;5;241m=\u001b[39m \u001b[43mos\u001b[49m\u001b[38;5;241;43m.\u001b[39;49m\u001b[43mread\u001b[49m\u001b[43m(\u001b[49m\u001b[43mexec_err_pipe_read\u001b[49m\u001b[43m,\u001b[49m\u001b[43m \u001b[49m\u001b[38;5;241;43m4096\u001b[39;49m\u001b[43m)\u001b[49m\n\u001b[1;32m    316\u001b[0m os\u001b[38;5;241m.\u001b[39mclose(exec_err_pipe_read)\n",
      "\u001b[0;31mKeyboardInterrupt\u001b[0m: ",
      "\nDuring handling of the above exception, another exception occurred:\n",
      "\u001b[0;31mUnboundLocalError\u001b[0m                         Traceback (most recent call last)",
      "Cell \u001b[0;32mIn[2], line 1\u001b[0m\n\u001b[0;32m----> 1\u001b[0m \u001b[43mget_ipython\u001b[49m\u001b[43m(\u001b[49m\u001b[43m)\u001b[49m\u001b[38;5;241;43m.\u001b[39;49m\u001b[43msystem\u001b[49m\u001b[43m(\u001b[49m\u001b[38;5;124;43m'\u001b[39;49m\u001b[38;5;124;43mpython3 -m spacy download en_core_web_md\u001b[39;49m\u001b[38;5;124;43m'\u001b[39;49m\u001b[43m)\u001b[49m\n",
      "File \u001b[0;32m~/Library/Python/3.10/lib/python/site-packages/ipykernel/zmqshell.py:649\u001b[0m, in \u001b[0;36mZMQInteractiveShell.system_piped\u001b[0;34m(self, cmd)\u001b[0m\n\u001b[1;32m    647\u001b[0m         \u001b[38;5;28mself\u001b[39m\u001b[38;5;241m.\u001b[39muser_ns[\u001b[38;5;124m\"\u001b[39m\u001b[38;5;124m_exit_code\u001b[39m\u001b[38;5;124m\"\u001b[39m] \u001b[38;5;241m=\u001b[39m system(cmd)\n\u001b[1;32m    648\u001b[0m \u001b[38;5;28;01melse\u001b[39;00m:\n\u001b[0;32m--> 649\u001b[0m     \u001b[38;5;28mself\u001b[39m\u001b[38;5;241m.\u001b[39muser_ns[\u001b[38;5;124m\"\u001b[39m\u001b[38;5;124m_exit_code\u001b[39m\u001b[38;5;124m\"\u001b[39m] \u001b[38;5;241m=\u001b[39m \u001b[43msystem\u001b[49m\u001b[43m(\u001b[49m\u001b[38;5;28;43mself\u001b[39;49m\u001b[38;5;241;43m.\u001b[39;49m\u001b[43mvar_expand\u001b[49m\u001b[43m(\u001b[49m\u001b[43mcmd\u001b[49m\u001b[43m,\u001b[49m\u001b[43m \u001b[49m\u001b[43mdepth\u001b[49m\u001b[38;5;241;43m=\u001b[39;49m\u001b[38;5;241;43m1\u001b[39;49m\u001b[43m)\u001b[49m\u001b[43m)\u001b[49m\n",
      "File \u001b[0;32m~/Library/Python/3.10/lib/python/site-packages/IPython/utils/_process_posix.py:164\u001b[0m, in \u001b[0;36mProcessHandler.system\u001b[0;34m(self, cmd)\u001b[0m\n\u001b[1;32m    159\u001b[0m         out_size \u001b[38;5;241m=\u001b[39m \u001b[38;5;28mlen\u001b[39m(child\u001b[38;5;241m.\u001b[39mbefore)\n\u001b[1;32m    160\u001b[0m \u001b[38;5;28;01mexcept\u001b[39;00m \u001b[38;5;167;01mKeyboardInterrupt\u001b[39;00m:\n\u001b[1;32m    161\u001b[0m     \u001b[38;5;66;03m# We need to send ^C to the process.  The ascii code for '^C' is 3\u001b[39;00m\n\u001b[1;32m    162\u001b[0m     \u001b[38;5;66;03m# (the character is known as ETX for 'End of Text', see\u001b[39;00m\n\u001b[1;32m    163\u001b[0m     \u001b[38;5;66;03m# curses.ascii.ETX).\u001b[39;00m\n\u001b[0;32m--> 164\u001b[0m     \u001b[43mchild\u001b[49m\u001b[38;5;241m.\u001b[39msendline(\u001b[38;5;28mchr\u001b[39m(\u001b[38;5;241m3\u001b[39m))\n\u001b[1;32m    165\u001b[0m     \u001b[38;5;66;03m# Read and print any more output the program might produce on its\u001b[39;00m\n\u001b[1;32m    166\u001b[0m     \u001b[38;5;66;03m# way out.\u001b[39;00m\n\u001b[1;32m    167\u001b[0m     \u001b[38;5;28;01mtry\u001b[39;00m:\n",
      "\u001b[0;31mUnboundLocalError\u001b[0m: local variable 'child' referenced before assignment"
     ]
    }
   ],
   "source": [
    "!python3 -m spacy download en_core_web_md"
   ]
  },
  {
   "cell_type": "code",
   "execution_count": 3,
   "metadata": {},
   "outputs": [
    {
     "name": "stdout",
     "output_type": "stream",
     "text": [
      "Tomato and Egg Drop Noodle Soup \n",
      "\n",
      "Morton kosher salt\n",
      "1 small yellow or red onion\n",
      "2 garlic cloves\n",
      "1  piece ginger\n",
      "1 scallion\n",
      "12 other wheat noodles\n",
      "2 vegetable oil\n",
      "1 tomatoes\n",
      "4 low-sodium vegetable broth\n",
      "4 large eggs\n",
      "4 Pinch freshly ground white pepper\n",
      "3 (or more) light or dark brown sugar\n",
      "3 chili oil\n",
      "3 sauce\n",
      "\n",
      "Fill a small Dutch oven or large saucepan with water, season with salt, and bring to a boil. ['fill', 'bring'] [('salt', None)] ['a small Dutch oven', 'large saucepan'] [] ['a boil']\n",
      "While water is coming to a bowl, prep your vegetables. ['prep'] [] ['a bowl'] [] []\n",
      "Peel 1 small yellow or red onion , halve, and thinly slice into half-moons. ['peel'] [('small yellow or red onion', Fraction(1, 1))] [] [] []\n",
      "Smash and peel 2 garlic cloves. ['smash', 'peel'] [('garlic cloves', Fraction(2, 1))] [] [] []\n",
      "Finely chop. ['chop'] [] [] [] []\n",
      "Scrape skin from one 1\" piece ginger with a spoon. ['scrape'] [(' piece ginger', Fraction(1, 1))] ['skin', 'a spoon'] [] []\n",
      "Thinly slice ginger. ['thinly'] [] [] [] []\n",
      "Stack slices two at a time and cut into matchsticks. ['stack'] [] [] [] []\n",
      "Line up matchsticks and cut crosswise into tiny squares. ['line', 'cut'] [] [] [] []\n",
      "Finely chop 1 scallion. ['chop'] [('scallion', Fraction(1, 1))] [] [] []\n",
      "Set aside for serving. ['set'] [] [] [] []\n",
      "Add 12 oz. ['add'] [] [] [] []\n",
      "Instant ramen or other wheat noodles to the pot of boiling water and cook according to package directions until just tender. ['instant'] [('other wheat noodles', Fraction(12, 1))] ['the pot', 'just tender'] [] []\n",
      "Drain in a colander and rinse under cold running water. ['drain'] [] [] [] []\n",
      "Set aside. ['set'] [] [] [] []\n",
      "Dry pot and reserve. ['dry'] [] ['dry pot'] [] []\n",
      "Heat 2 Tbsp. ['heat'] [] [] [] []\n",
      "Grapeseed or vegetable oil in reserved pot over medium-high. ['grapeseed', 'oil'] [('vegetable oil', Fraction(2, 1))] ['reserved pot'] [] []\n",
      "Add onion and cook, stirring constantly, until soft and golden, about 5 minutes. ['add'] [] [] ['about 5 minutes'] []\n",
      "Add garlic and ginger and cook, stirring, until fragrant, about 30 seconds. ['add'] [] [] ['about 30 seconds'] []\n",
      "Add one 28-oz. ['add'] [] [] [] []\n",
      "Can diced tomatoes and 4 cups low-sodium vegetable broth or water to pot. ['diced'] [('tomatoes', Fraction(1, 1)), ('low-sodium vegetable broth', Fraction(4, 1))] ['pot'] [] []\n",
      "Reduce heat to medium, cover pot with a lid, and cook broth until flavors have come together, 10–15 minutes. ['reduce', 'cover', 'cook'] [] ['pot'] ['10–15 minutes'] ['heat']\n",
      "Meanwhile, whisk 4 large eggs , 2 tsp. ['whisk'] [('large eggs', Fraction(4, 1))] ['meanwhile, whisk'] [] []\n",
      "Diamond Crystal  or 1 tsp. ['Crystal', 'tsp'] [] [] [] []\n",
      "Morton kosher salt , and a pinch of freshly ground white pepper in a large measuring glass or a small bowl with a lip. ['kosher', 'pinch'] [('salt', None), ('white pepper', Fraction(4, 1))] ['a large measuring glass', 'a small bowl'] [] []\n",
      "Uncover broth and stir in 3 Tbsp. ['uncover', 'stir'] [] [] [] []\n",
      "Light or dark brown or granulated sugar and add ½ tsp. ['light'] [] [] [] []\n",
      "Diamond Crystal or ¼ Morton kosher salt. ['diamond'] [] [] [] []\n",
      "Taste and add more sugar and/or salt if needed. ['taste', 'add'] [('more sugar', Fraction(3, 1)), ('salt', None)] [] [] []\n",
      "The broth should be slightly sweet and a little tart. ['be'] [] [] [] []\n",
      "Increase heat to medium-high and bring broth to a boil. ['increase', 'bring'] [] [] [] ['heat', 'a boil']\n",
      "Very slowly trickle beaten eggs into soup (no need to stir). ['beaten'] [] [] [] []\n",
      "Cook eggs until set, 30–60 seconds from when you start pouring. ['cook'] [] [] ['30–60 seconds'] []\n",
      "Remove soup from heat. ['remove'] [] [] [] ['heat']\n",
      "The egg doesn’t need to be totally cooked through—it will continue to cook in the residual heat of the broth. ['continue'] [] [] [] ['the residual heat']\n",
      "Rinse noodles under running water again to loosen them up. ['rinse'] [] [] [] []\n",
      "Divide among 4 bowls and ladle soup over. ['divide'] [] [] [] []\n",
      "Drizzle with toasted sesame oil or chili oil and Maggi seasoning sauce or soy sauce and top with reserved scallions. ['drizzle'] [('chili oil', Fraction(3, 1)), ('soy sauce', Fraction(3, 1))] [] [] []\n",
      "How would you rate Tomato and Egg Drop Noodle Soup?. ['rate'] [] [] [] []\n",
      "Leave a Review. ['leave'] [] [] [] []\n",
      "Food Innovation Group. ['Group'] [] [] [] []\n"
     ]
    }
   ],
   "source": [
    "import parser as p\n",
    "import util as u\n",
    "\n",
    "recipe = p.get_recipe_from_url(\"https://www.bonappetit.com/recipe/tomato-and-egg-drop-noodle-soup\")\n",
    "# recipe = p.get_recipe_from_url(\"https://www.epicurious.com/recipes/food/views/sticky-rice-with-mango-12066\")\n",
    "# recipe = p.get_recipe_from_url(\"https://www.seriouseats.com/parker-house-rolls-recipe-8733832\")\n",
    "# recipe = p.get_recipe_from_url(\"https://www.allrecipes.com/recipe/19644/moussaka/\")\n",
    "# recipe = p.get_recipe_from_url(\"https://www.allrecipes.com/recipe/218091/classic-and-simple-meat-lasagna/\")\n",
    "# recipe = p.get_recipe_from_url(\"https://www.allrecipes.com/recipe/230238/gingerbread-men-cookies/\")\n",
    "print(recipe.title, '\\n')\n",
    "for ingr in recipe.ingredients:\n",
    "    print(u.fraction_to_str(ingr.quantity) if ingr.quantity else '',\n",
    "          ' ' if ingr.quantity else '', ingr.unit if ingr.unit else '',\n",
    "          ' ' if ingr.unit else '', ingr.name, sep='')\n",
    "print()\n",
    "for step in recipe.steps:\n",
    "    print(step.text, step.methods, [(ingr.name, ingr.quantity) for ingr in step.ingredients],\n",
    "          step.tools, step.times, step.temps)"
   ]
  },
  {
   "cell_type": "code",
   "execution_count": null,
   "metadata": {},
   "outputs": [
    {
     "name": "stdout",
     "output_type": "stream",
     "text": [
      "1½ NUM nummod cups NOUN [] CARDINAL\n",
      "cups NOUN ROOT cups NOUN [1½, rice] \n",
      "glutinous PROPN compound rice NOUN [] \n",
      "rice NOUN appos cups NOUN [glutinous] \n",
      "\n",
      "1½ cups cups ROOT cups 0 2 1\n",
      "glutinous rice rice appos cups 2 4 3\n",
      "\n",
      "1½ CARDINAL\n"
     ]
    }
   ],
   "source": [
    "# text = \"lay eggplant slices on paper towels\"\n",
    "text = \"1½ cups glutinous rice\"\n",
    "# text = \"cook and stir until beef is browned, 8 to 10 minutes\"\n",
    "# text = \"scald milk in a saucepan over medium heat\"\n",
    "# text = \"meanwhile, place ground beef, garlic, oregano, garlic powder, salt, and black pepper in a large skillet over medium heat\"\n",
    "# text = \"add lasagna noodles and cook for 10 minutes or until al dente\"\n",
    "# text = \"season béchamel sauce with salt and white pepper\"\n",
    "# text = \"serve hot and enjoy!\"\n",
    "# text = \"bake in the preheated oven until edges of cookies are set and just begin to brown, 8 to 10 minutes\"\n",
    "# text = \"pour béchamel sauce on top and sprinkle with remaining 1/4 teaspoon nutmeg\"\n",
    "# text = \"cover with remaining eggplant and sprinkle another 1/2 cup cheese on top\"\n",
    "# text = \"add parsley, fines herbs, cinnamon, and 1/4 teaspoon nutmeg\"\n",
    "\n",
    "doc = u.nlp(text)\n",
    "for token in doc:\n",
    "    print(token.text, token.pos_, token.dep_, token.head.text, token.head.pos_,\n",
    "            [child for child in token.children], token.ent_type_)\n",
    "print()\n",
    "for chunk in doc.noun_chunks:\n",
    "    print(chunk.text, chunk.root.text, chunk.root.dep_,\n",
    "            chunk.root.head.text, chunk.start, chunk.end, chunk.root.i)\n",
    "print()\n",
    "for ent in doc.ents:\n",
    "    print(ent.text, ent.label_)"
   ]
  },
  {
   "cell_type": "code",
   "execution_count": null,
   "metadata": {},
   "outputs": [
    {
     "name": "stdout",
     "output_type": "stream",
     "text": [
      "[Synset('yeast.n.01'), Synset('yeast.n.02')]\n",
      "[[Synset('entity.n.01'), Synset('physical_entity.n.01'), Synset('matter.n.03'), Synset('substance.n.07'), Synset('leaven.n.01'), Synset('yeast.n.01')]]\n",
      "[[Synset('entity.n.01'), Synset('physical_entity.n.01'), Synset('object.n.01'), Synset('whole.n.02'), Synset('living_thing.n.01'), Synset('organism.n.01'), Synset('fungus.n.01'), Synset('yeast.n.02')]]\n",
      "\n",
      "[Synset('bake.v.01'), Synset('bake.v.02'), Synset('broil.v.02'), Synset('bake.v.04')]\n",
      "[[Synset('change.v.02'), Synset('change_integrity.v.01'), Synset('cook.v.03'), Synset('bake.v.01')]]\n",
      "[[Synset('make.v.03'), Synset('create_from_raw_material.v.01'), Synset('bake.v.02')]]\n",
      "[[Synset('change.v.01'), Synset('heat.v.01'), Synset('broil.v.02')]]\n",
      "[[Synset('be.v.01'), Synset('bake.v.04')]]\n",
      "\n",
      "[Synset('saute.v.01')]\n",
      "[[Synset('change.v.02'), Synset('change_integrity.v.01'), Synset('cook.v.03'), Synset('fry.v.02'), Synset('saute.v.01')]]\n",
      "\n"
     ]
    },
    {
     "ename": "NameError",
     "evalue": "name 'u' is not defined",
     "output_type": "error",
     "traceback": [
      "\u001b[0;31m---------------------------------------------------------------------------\u001b[0m",
      "\u001b[0;31mNameError\u001b[0m                                 Traceback (most recent call last)",
      "Cell \u001b[0;32mIn[1], line 20\u001b[0m\n\u001b[1;32m     18\u001b[0m print_verb_paths(\u001b[38;5;124m\"\u001b[39m\u001b[38;5;124mbake\u001b[39m\u001b[38;5;124m\"\u001b[39m)\n\u001b[1;32m     19\u001b[0m print_verb_paths(\u001b[38;5;124m\"\u001b[39m\u001b[38;5;124msaute\u001b[39m\u001b[38;5;124m\"\u001b[39m)\n\u001b[0;32m---> 20\u001b[0m \u001b[38;5;28mprint\u001b[39m(\u001b[43mu\u001b[49m\u001b[38;5;241m.\u001b[39mNounType\u001b[38;5;241m.\u001b[39mfrom_str(\u001b[38;5;124m\"\u001b[39m\u001b[38;5;124mseason\u001b[39m\u001b[38;5;124m\"\u001b[39m))\n\u001b[1;32m     21\u001b[0m \u001b[38;5;28mprint\u001b[39m(u\u001b[38;5;241m.\u001b[39mNounType\u001b[38;5;241m.\u001b[39mfrom_str(\u001b[38;5;124m\"\u001b[39m\u001b[38;5;124mtin\u001b[39m\u001b[38;5;124m\"\u001b[39m))\n\u001b[1;32m     22\u001b[0m \u001b[38;5;28mprint\u001b[39m(u\u001b[38;5;241m.\u001b[39mNounType\u001b[38;5;241m.\u001b[39mfrom_str(\u001b[38;5;124m\"\u001b[39m\u001b[38;5;124mmixer\u001b[39m\u001b[38;5;124m\"\u001b[39m))\n",
      "\u001b[0;31mNameError\u001b[0m: name 'u' is not defined"
     ]
    }
   ],
   "source": [
    "from nltk.corpus import wordnet as wn\n",
    "\n",
    "def print_hypernym_paths(noun: str):\n",
    "    mix_sets = wn.synsets(noun, wn.NOUN)\n",
    "    print(mix_sets)\n",
    "    for s in mix_sets:\n",
    "        print(s.hypernym_paths())\n",
    "    print()\n",
    "\n",
    "def print_verb_paths(verb: str):\n",
    "    sets = wn.synsets(verb, wn.VERB)\n",
    "    print(sets)\n",
    "    for s in sets:\n",
    "        print(s.hypernym_paths())\n",
    "    print()\n",
    "\n",
    "print_hypernym_paths(\"yeast\")\n",
    "print_verb_paths(\"bake\")\n",
    "print_verb_paths(\"saute\")\n",
    "print(u.NounType.from_str(\"season\"))\n",
    "print(u.NounType.from_str(\"tin\"))\n",
    "print(u.NounType.from_str(\"mixer\"))\n",
    "print(u.NounType.from_str(\"men\"))"
   ]
  }
 ],
 "metadata": {
  "kernelspec": {
   "display_name": "Python 3",
   "language": "python",
   "name": "python3"
  },
  "language_info": {
   "codemirror_mode": {
    "name": "ipython",
    "version": 3
   },
   "file_extension": ".py",
   "mimetype": "text/x-python",
   "name": "python",
   "nbconvert_exporter": "python",
   "pygments_lexer": "ipython3",
   "version": "3.10.2"
  }
 },
 "nbformat": 4,
 "nbformat_minor": 2
}
