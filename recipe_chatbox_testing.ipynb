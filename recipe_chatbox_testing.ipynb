{
 "cells": [
  {
   "cell_type": "code",
   "execution_count": null,
   "metadata": {},
   "outputs": [],
   "source": [
    "import recipe_chatbox as rc\n",
    "from parser import get_recipe_from_url"
   ]
  },
  {
   "cell_type": "code",
   "execution_count": null,
   "metadata": {},
   "outputs": [],
   "source": [
    "context = rc.Context()\n",
    "recipe =  get_recipe_from_url(\"https://www.allrecipes.com/recipe/19644/moussaka/\")\n",
    "context.current_recipe = recipe\n",
    "rc.display_step(context)"
   ]
  },
  {
   "cell_type": "code",
   "execution_count": null,
   "metadata": {
    "colab": {
     "base_uri": "https://localhost:8080/"
    },
    "id": "_3QNMJli14pS",
    "outputId": "4a76021c-428f-4351-8e56-a8aebf6a4e44"
   },
   "outputs": [
    {
     "name": "stdout",
     "output_type": "stream",
     "text": [
      "The ingredients for 'Moussaka' are as follows:\n",
      "  • 3 eggplants, peeled and cut lengthwise into 1/2 inch thick slices\n",
      "  • salt to taste\n",
      "  • 1/4 cup olive oil\n",
      "  • 1 tablespoon butter\n",
      "  • 1 pound lean ground beef\n",
      "  • 2 onions, chopped\n",
      "  • 1 clove garlic, minced\n",
      "  • ground black pepper to taste\n",
      "  • 2 tablespoons dried parsley\n",
      "  • 1/2 teaspoon fines herbs\n",
      "  • 1/4 teaspoon ground cinnamon\n",
      "  • 1/2 teaspoon ground nutmeg, divided\n",
      "  • 1 (8 ounce) can tomato sauce\n",
      "  • 1/2 cup red wine\n",
      "  • 1 egg, beaten\n",
      "  • 4 cups milk\n",
      "  • 1/2 cup butter\n",
      "  • 6 tablespoons all-purpose flour\n",
      "  • ground white pepper, to taste\n",
      "  • 3/2 cups freshly grated Parmesan cheese\n",
      "\n",
      "Would you like to walk through the steps, or do you have any other questions?\n",
      "You can press '1' for the next step, '2' for the list of ingredients or 'quit' to end the session or any other questions you have\n"
     ]
    }
   ],
   "source": [
    "context = rc.Context()\n",
    "recipe =  get_recipe_from_url(\"https://www.allrecipes.com/recipe/19644/moussaka/\")\n",
    "context.current_recipe = recipe\n",
    "rc.display_ingredients(context)"
   ]
  },
  {
   "cell_type": "code",
   "execution_count": null,
   "metadata": {
    "colab": {
     "base_uri": "https://localhost:8080/"
    },
    "id": "GvPqh2h814pS",
    "outputId": "9c6ecaac-e9bb-4043-c7eb-c2ace59e8d3f"
   },
   "outputs": [
    {
     "name": "stdout",
     "output_type": "stream",
     "text": [
      "YouTube Search URL: https://www.youtube.com/results?search_query=how+to+preheat+oven\n",
      "Google Search URL: https://www.google.com/search?q=how+to+preheat+oven\n",
      "True\n",
      "True\n"
     ]
    }
   ],
   "source": [
    "query = \"how to preheat oven\"\n",
    "search_url = rc.generate_youtube_search_url(query)\n",
    "print(f\"YouTube Search URL: {search_url}\")\n",
    "\n",
    "query = \"how to preheat oven\"\n",
    "search_url = rc.generate_google_search_url(query)\n",
    "print(f\"Google Search URL: {search_url}\")\n",
    "\n",
    "print(rc.contains_ingredient(\"The truth is there is no secret ingredient\"))\n",
    "\n",
    "print(rc.contains_ingredient(\"May be, the secret ingredients are love and something random\"))"
   ]
  },
  {
   "cell_type": "code",
   "execution_count": null,
   "metadata": {
    "id": "siis0kgR14pU"
   },
   "outputs": [],
   "source": [
    "# Example Usage\n",
    "# print(extract_step_number(\"second\"))\n",
    "# print(extract_step_number(\"tenth\"))\n",
    "# print(extract_step_number(\"twenty-first\"))\n",
    "# print(extract_step_number(\"forty-second\"))\n",
    "# print(extract_step_number(\"fiftieth\"))\n",
    "# print(extract_step_number(\"thirty-five\"))\n",
    "# print(extract_step_number(\"seventy-eighth\"))\n",
    "# print(extract_step_number(\"go to the second step\"))\n",
    "# print(extract_step_number(\"take me the fifth step\"))"
   ]
  },
  {
   "cell_type": "code",
   "execution_count": null,
   "metadata": {
    "colab": {
     "base_uri": "https://localhost:8080/"
    },
    "id": "dKsg5JBd14pU",
    "outputId": "d916f77a-2a23-4ffb-8360-e5a34f0595d7"
   },
   "outputs": [
    {
     "name": "stdout",
     "output_type": "stream",
     "text": [
      "Step 2: Sprinkle lightly with salt.\n",
      "Do you have any questions regarding this step?\n",
      "You can press '1' for the next step, '2' for the list of ingredients, or 'quit' to end the session or any other questions you have\n",
      "Step 1: Lay eggplant slices on paper towels.\n",
      "Do you have any questions regarding this step?\n",
      "You can press '1' for the next step, '2' for the list of ingredients, or 'quit' to end the session or any other questions you have\n",
      "Step 7: Drain on paper towels.\n",
      "Do you have any questions regarding this step?\n",
      "You can press '1' for the next step, '2' for the list of ingredients, or 'quit' to end the session or any other questions you have\n",
      "Step 8: Set aside.\n",
      "Do you have any questions regarding this step?\n",
      "You can press '1' for the next step, '2' for the list of ingredients, or 'quit' to end the session or any other questions you have\n",
      "Step 5: Warm olive oil in a skillet over high heat.\n",
      "Do you have any questions regarding this step?\n",
      "You can press '1' for the next step, '2' for the list of ingredients, or 'quit' to end the session or any other questions you have\n",
      "For more details about 'warm', visit: https://www.google.com/search?q=warm+as+a+method+of+cooking\n",
      "For more details about 'warm olive oil', visit: https://www.google.com/search?q=warm+olive+oil\n",
      "For more details about 'a skillet', visit: https://www.google.com/search?q=a+skillet\n",
      "You can press '1' for the next step, '2' for the list of ingredients, or 'quit' to end the session or any other questions you have.\n",
      "warm: Link-- https://www.youtube.com/results?search_query=How+do+I+warm+for+the+cooking\n",
      "For more details, visit: https://www.youtube.com/results?search_query=how+do+I+deep-fry+fish+in+the+context+of+cooking\n",
      "You can press '1' for the next step, '2' for the list of ingredients, or 'quit' to end the session or any other questions you have.\n",
      "The ingredients for 'Moussaka' are as follows:\n",
      "  • 3 eggplants, peeled and cut lengthwise into 1/2 inch thick slices\n",
      "  • salt to taste\n",
      "  • 1/4 cup olive oil\n",
      "  • 1 tablespoon butter\n",
      "  • 1 pound lean ground beef\n",
      "  • 2 onions, chopped\n",
      "  • 1 clove garlic, minced\n",
      "  • ground black pepper to taste\n",
      "  • 2 tablespoons dried parsley\n",
      "  • 1/2 teaspoon fines herbs\n",
      "  • 1/4 teaspoon ground cinnamon\n",
      "  • 1/2 teaspoon ground nutmeg, divided\n",
      "  • 1 (8 ounce) can tomato sauce\n",
      "  • 1/2 cup red wine\n",
      "  • 1 egg, beaten\n",
      "  • 4 cups milk\n",
      "  • 1/2 cup butter\n",
      "  • 6 tablespoons all-purpose flour\n",
      "  • ground white pepper, to taste\n",
      "  • 3/2 cups freshly grated Parmesan cheese\n",
      "\n",
      "Would you like to go back to the steps, or do you have any other questions?\n",
      "You can press '1' for the next step, '2' for the list of ingredients or 'quit' to end the session or any other questions you have\n"
     ]
    }
   ],
   "source": [
    "context = rc.Context()\n",
    "context.current_step  = 2\n",
    "recipe =  get_recipe_from_url(\"https://www.allrecipes.com/recipe/19644/moussaka/\")\n",
    "context.current_recipe = recipe\n",
    "rc.handle_input(context, \"repeat the previous step again!\")\n",
    "rc.handle_input(context, \"go back to the previous step!\")\n",
    "rc.handle_input(context, \"go to step 7\")\n",
    "rc.handle_input(context, \"go to the next step\")\n",
    "rc.handle_input(context, \"take me back tot he fifth step\")\n",
    "rc.handle_input(context, \"go back to the second step\")\n",
    "rc.handle_input(context, \"what is that?\")\n",
    "rc.handle_input(context, \"how do I do that?\")\n",
    "rc.handle_input(context, \"how do I deep-fry fish\")\n",
    "rc.handle_input(context, \"show me the ingredients\")"
   ]
  },
  {
   "cell_type": "code",
   "execution_count": null,
   "metadata": {
    "colab": {
     "base_uri": "https://localhost:8080/"
    },
    "id": "MypqZ7txTmx3",
    "outputId": "541d7b23-cc59-4a24-831d-d14991d5372f"
   },
   "outputs": [
    {
     "name": "stdout",
     "output_type": "stream",
     "text": [
      "Welcome to Recipe Chatbox! Please enter the URL of the recipe you need assistance with.\n",
      "https://www.allrecipes.com/recipe/19644/moussaka/\n",
      "Got it! I'm ready to assist with the recipe for 'Moussaka'.\n",
      "Would you like to:\n",
      "1. Walk through the steps\n",
      "2. Get the list of ingredients\n",
      "Type 'quit' to end the session, or ask any other requests.\n",
      "The ingredients for 'Moussaka' are as follows:\n",
      "  • 3 eggplants, peeled and cut lengthwise into 1/2 inch thick slices\n",
      "  • salt to taste\n",
      "  • 1/4 cup olive oil\n",
      "  • 1 tablespoon butter\n",
      "  • 1 pound lean ground beef\n",
      "  • 2 onions, chopped\n",
      "  • 1 clove garlic, minced\n",
      "  • ground black pepper to taste\n",
      "  • 2 tablespoons dried parsley\n",
      "  • 1/2 teaspoon fines herbs\n",
      "  • 1/4 teaspoon ground cinnamon\n",
      "  • 1/2 teaspoon ground nutmeg, divided\n",
      "  • 1 (8 ounce) can tomato sauce\n",
      "  • 1/2 cup red wine\n",
      "  • 1 egg, beaten\n",
      "  • 4 cups milk\n",
      "  • 1/2 cup butter\n",
      "  • 6 tablespoons all-purpose flour\n",
      "  • ground white pepper, to taste\n",
      "  • 3/2 cups freshly grated Parmesan cheese\n",
      "\n",
      "Would you like to walk through the steps, or do you have any other questions?\n",
      "You can press '1' for the next step, '2' for the list of ingredients or 'quit' to end the session or any other questions you have\n",
      "The ingredients for 'Moussaka' are as follows:\n",
      "  • 3 eggplants, peeled and cut lengthwise into 1/2 inch thick slices\n",
      "  • salt to taste\n",
      "  • 1/4 cup olive oil\n",
      "  • 1 tablespoon butter\n",
      "  • 1 pound lean ground beef\n",
      "  • 2 onions, chopped\n",
      "  • 1 clove garlic, minced\n",
      "  • ground black pepper to taste\n",
      "  • 2 tablespoons dried parsley\n",
      "  • 1/2 teaspoon fines herbs\n",
      "  • 1/4 teaspoon ground cinnamon\n",
      "  • 1/2 teaspoon ground nutmeg, divided\n",
      "  • 1 (8 ounce) can tomato sauce\n",
      "  • 1/2 cup red wine\n",
      "  • 1 egg, beaten\n",
      "  • 4 cups milk\n",
      "  • 1/2 cup butter\n",
      "  • 6 tablespoons all-purpose flour\n",
      "  • ground white pepper, to taste\n",
      "  • 3/2 cups freshly grated Parmesan cheese\n",
      "\n",
      "Would you like to walk through the steps, or do you have any other questions?\n",
      "You can press '1' for the next step, '2' for the list of ingredients or 'quit' to end the session or any other questions you have\n",
      "Thank you for using the Recipe Chatbox. Have a great day!\n"
     ]
    }
   ],
   "source": [
    "#Test Link: https://www.allrecipes.com/recipe/19644/moussaka/"
   ]
  }
 ],
 "metadata": {
  "colab": {
   "provenance": []
  },
  "kernelspec": {
   "display_name": "Python 3",
   "language": "python",
   "name": "python3"
  },
  "language_info": {
   "codemirror_mode": {
    "name": "ipython",
    "version": 3
   },
   "file_extension": ".py",
   "mimetype": "text/x-python",
   "name": "python",
   "nbconvert_exporter": "python",
   "pygments_lexer": "ipython3",
   "version": "3.10.2"
  },
  "polyglot_notebook": {
   "kernelInfo": {
    "defaultKernelName": "csharp",
    "items": [
     {
      "aliases": [],
      "name": "csharp"
     }
    ]
   }
  }
 },
 "nbformat": 4,
 "nbformat_minor": 0
}
