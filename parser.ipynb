{
 "cells": [
  {
   "cell_type": "code",
   "execution_count": 12,
   "metadata": {},
   "outputs": [
    {
     "name": "stdout",
     "output_type": "stream",
     "text": [
      "Requirement already satisfied: requests in /Library/Frameworks/Python.framework/Versions/3.10/lib/python3.10/site-packages (2.32.3)\n",
      "Requirement already satisfied: charset-normalizer<4,>=2 in /Library/Frameworks/Python.framework/Versions/3.10/lib/python3.10/site-packages (from requests) (3.4.0)\n",
      "Requirement already satisfied: idna<4,>=2.5 in /Library/Frameworks/Python.framework/Versions/3.10/lib/python3.10/site-packages (from requests) (3.10)\n",
      "Requirement already satisfied: urllib3<3,>=1.21.1 in /Library/Frameworks/Python.framework/Versions/3.10/lib/python3.10/site-packages (from requests) (2.2.3)\n",
      "Requirement already satisfied: certifi>=2017.4.17 in /Library/Frameworks/Python.framework/Versions/3.10/lib/python3.10/site-packages (from requests) (2024.8.30)\n",
      "Note: you may need to restart the kernel to use updated packages.\n"
     ]
    }
   ],
   "source": [
    "%pip install requests"
   ]
  },
  {
   "cell_type": "code",
   "execution_count": 13,
   "metadata": {},
   "outputs": [
    {
     "name": "stdout",
     "output_type": "stream",
     "text": [
      "Collecting en-core-web-md==3.8.0\n",
      "  Downloading https://github.com/explosion/spacy-models/releases/download/en_core_web_md-3.8.0/en_core_web_md-3.8.0-py3-none-any.whl (33.5 MB)\n",
      "\u001b[2K     \u001b[90m━━━━━━━━━━━━━━━━━━━━━━━━━━━━━━━━━━━━━━━━\u001b[0m \u001b[32m33.5/33.5 MB\u001b[0m \u001b[31m4.4 MB/s\u001b[0m eta \u001b[36m0:00:00\u001b[0m00:01\u001b[0m00:01\u001b[0m\n",
      "\u001b[?25h\u001b[38;5;2m✔ Download and installation successful\u001b[0m\n",
      "You can now load the package via spacy.load('en_core_web_md')\n"
     ]
    }
   ],
   "source": [
    "!python3 -m spacy download en_core_web_md"
   ]
  },
  {
   "cell_type": "code",
   "execution_count": 14,
   "metadata": {},
   "outputs": [
    {
     "name": "stdout",
     "output_type": "stream",
     "text": [
      "Moussaka \n",
      "\n",
      "3 eggplants, peeled and cut lengthwise into 1/2 inch thick slices\n",
      "salt to taste\n",
      "1/4 cup olive oil\n",
      "1 tablespoon butter\n",
      "1 pound lean ground beef\n",
      "2 onions, chopped\n",
      "1 clove garlic, minced\n",
      "ground black pepper to taste\n",
      "2 tablespoons dried parsley\n",
      "1/2 teaspoon fines herbs\n",
      "1/4 teaspoon ground cinnamon\n",
      "1/2 teaspoon ground nutmeg, divided\n",
      "1 (8 ounce) can tomato sauce\n",
      "1/2 cup red wine\n",
      "1 egg, beaten\n",
      "4 cups milk\n",
      "1/2 cup butter\n",
      "6 tablespoons all-purpose flour\n",
      "ground white pepper, to taste\n",
      "1 1/2 cups freshly grated Parmesan cheese\n",
      "\n",
      "Lay eggplant slices on paper towels. ['lay'] [('eggplant slices', Fraction(3, 1))] [] [] []\n",
      "Sprinkle lightly with salt. ['sprinkle'] [('salt', None)] [] [] []\n",
      "Let sit for 30 minutes to draw out moisture. ['sit'] [] [] ['30 minutes'] []\n",
      "Pat dry with paper towels. ['dry'] [] [] [] []\n",
      "Warm olive oil in a skillet over high heat. ['warm'] [('warm olive oil', Fraction(1, 4))] ['a skillet'] [] ['high heat']\n",
      "Fry eggplant until browned, 2 to 3 minutes per side. ['fry'] [] [] ['2 to 3 minutes'] []\n",
      "Drain on paper towels. ['drain'] [] [] [] []\n",
      "Set aside. ['set'] [] [] [] []\n",
      "Melt 1 tablespoon butter in a large skillet over medium heat. ['melt'] [('butter', Fraction(1, 1))] ['a large skillet'] [] ['medium heat']\n",
      "Stir in ground beef, onions, and garlic. ['stir'] [('ground beef', Fraction(1, 1)), ('onions', Fraction(2, 1)), ('garlic', Fraction(1, 1))] [] [] []\n",
      "Season with salt and black pepper. ['season'] [('salt', None), ('black pepper', None)] [] [] []\n",
      "Cook and stir until beef is browned, 8 to 10 minutes. ['cook', 'stir'] [] [] ['8 to 10 minutes'] []\n",
      "Add parsley, fines herbs, cinnamon, and 1/4 teaspoon nutmeg. ['add'] [('parsley', Fraction(2, 1)), ('herbs', Fraction(1, 2)), ('cinnamon', Fraction(1, 4)), ('nutmeg', Fraction(1, 4))] [] [] []\n",
      "Pour in tomato sauce and wine. ['pour'] [('tomato sauce', Fraction(1, 1)), ('wine', Fraction(1, 2))] [] [] []\n",
      "Mix well. ['mix'] [] [] [] []\n",
      "Simmer for 20 minutes. ['simmer'] [] [] ['20 minutes'] []\n",
      "Allow to cool. ['allow'] [] [] [] []\n",
      "Stir in beaten egg. ['stir'] [('beaten egg', Fraction(1, 1))] [] [] []\n",
      "Scald milk in a saucepan over medium heat. ['scald'] [] ['a saucepan'] [] ['medium heat']\n",
      "At the same time, melt 1/2 cup butter in a large skillet over medium heat. ['melt'] [('butter', Fraction(1, 2))] ['a large skillet'] [] ['medium heat']\n",
      "Whisk flour into butter until smooth. ['whisk'] [] [] [] []\n",
      "Lower heat. ['lower'] [] [] [] ['lower heat']\n",
      "Gradually pour in scalded milk, whisking constantly until it thickens. ['pour'] [('scalded milk', Fraction(4, 1))] [] [] []\n",
      "Season béchamel sauce with salt and white pepper. ['season'] [('salt', None), ('ground black pepper to taste', None), ('ground white pepper, to taste', None)] [] ['season'] []\n",
      "Preheat the oven to 350 degrees F (175 degrees C). ['preheat'] [] ['the oven'] [] ['350 degrees F', '175 degrees C']\n",
      "Grease a 9x13-inch baking dish. ['grease'] [] ['a 9x13-inch baking dish'] [] []\n",
      "Arrange a single layer of eggplant in the prepared baking dish. ['arrange'] [] ['the prepared baking dish'] [] []\n",
      "Cover eggplant with meat sauce. ['cover'] [] [] [] []\n",
      "Sprinkle 1/2 cup Parmesan cheese on top. ['sprinkle'] [('Parmesan cheese', Fraction(1, 2))] [] [] []\n",
      "Cover with remaining eggplant and sprinkle another 1/2 cup cheese on top. ['cover', 'sprinkle'] [] [] [] []\n",
      "Pour béchamel sauce on top and sprinkle with remaining 1/4 teaspoon nutmeg. ['pour', 'sprinkle'] [('nutmeg', Fraction(1, 4))] [] [] []\n",
      "Cover with remaining cheese. ['cover'] [('remaining cheese', Fraction(1, 1))] [] [] []\n",
      "Bake in the preheated oven until bubbly and browned, about 1 hour. ['bake', 'browned'] [] ['the preheated oven'] ['about 1 hour'] []\n",
      "Serve hot and enjoy!. ['serve'] [] [] [] []\n"
     ]
    }
   ],
   "source": [
    "import parser as p\n",
    "import util as u\n",
    "\n",
    "recipe = p.get_recipe_from_url(\"https://www.allrecipes.com/recipe/19644/moussaka/\")\n",
    "# recipe = p.get_recipe_from_url(\"https://www.allrecipes.com/recipe/218091/classic-and-simple-meat-lasagna/\")\n",
    "# recipe = p.get_recipe_from_url(\"https://www.allrecipes.com/recipe/230238/gingerbread-men-cookies/\")\n",
    "print(recipe.title, '\\n')\n",
    "for ingr in recipe.ingredients:\n",
    "    print(u.fraction_to_str(ingr.quantity) if ingr.quantity else '',\n",
    "          ' ' if ingr.quantity else '', ingr.unit if ingr.unit else '',\n",
    "          ' ' if ingr.unit else '', ingr.name, sep='')\n",
    "print()\n",
    "for step in recipe.steps:\n",
    "    print(step.text, step.methods, [(ingr.name, ingr.quantity) for ingr in step.ingredients],\n",
    "          step.tools, step.times, step.temps)"
   ]
  },
  {
   "cell_type": "code",
   "execution_count": 15,
   "metadata": {},
   "outputs": [
    {
     "name": "stdout",
     "output_type": "stream",
     "text": [
      "eggplant NOUN compound slices NOUN [] \n",
      "slices NOUN ROOT slices NOUN [eggplant] \n",
      "\n",
      "eggplant slices slices ROOT slices 0 2 1\n",
      "\n"
     ]
    }
   ],
   "source": [
    "# text = \"lay eggplant slices on paper towels\"\n",
    "text = \"eggplant slices\"\n",
    "# text = \"cook and stir until beef is browned, 8 to 10 minutes\"\n",
    "# text = \"scald milk in a saucepan over medium heat\"\n",
    "# text = \"meanwhile, place ground beef, garlic, oregano, garlic powder, salt, and black pepper in a large skillet over medium heat\"\n",
    "# text = \"add lasagna noodles and cook for 10 minutes or until al dente\"\n",
    "# text = \"season béchamel sauce with salt and white pepper\"\n",
    "# text = \"serve hot and enjoy!\"\n",
    "# text = \"bake in the preheated oven until edges of cookies are set and just begin to brown, 8 to 10 minutes\"\n",
    "# text = \"pour béchamel sauce on top and sprinkle with remaining 1/4 teaspoon nutmeg\"\n",
    "# text = \"cover with remaining eggplant and sprinkle another 1/2 cup cheese on top\"\n",
    "# text = \"add parsley, fines herbs, cinnamon, and 1/4 teaspoon nutmeg\"\n",
    "\n",
    "doc = u.nlp(text)\n",
    "for token in doc:\n",
    "    print(token.text, token.pos_, token.dep_, token.head.text, token.head.pos_,\n",
    "            [child for child in token.children], token.ent_type_)\n",
    "print()\n",
    "for chunk in doc.noun_chunks:\n",
    "    print(chunk.text, chunk.root.text, chunk.root.dep_,\n",
    "            chunk.root.head.text, chunk.start, chunk.end, chunk.root.i)\n",
    "print()\n",
    "for ent in doc.ents:\n",
    "    print(ent.text, ent.label_)"
   ]
  },
  {
   "cell_type": "code",
   "execution_count": 16,
   "metadata": {},
   "outputs": [
    {
     "name": "stdout",
     "output_type": "stream",
     "text": [
      "[Synset('blister.v.02'), Synset('scald.v.02'), Synset('scald.v.03'), Synset('scald.v.04')]\n",
      "[[Synset('express.v.02'), Synset('state.v.01'), Synset('note.v.01'), Synset('comment.v.01'), Synset('knock.v.06'), Synset('attack.v.02'), Synset('blister.v.02')]]\n",
      "[[Synset('change.v.01'), Synset('affect.v.01'), Synset('process.v.01'), Synset('scald.v.02')]]\n",
      "[[Synset('change.v.01'), Synset('heat.v.01'), Synset('scald.v.03')]]\n",
      "[[Synset('change.v.01'), Synset('damage.v.01'), Synset('burn.v.15'), Synset('scald.v.04')]]\n",
      "\n",
      "[Synset('bake.v.01'), Synset('bake.v.02'), Synset('broil.v.02'), Synset('bake.v.04')]\n",
      "[[Synset('change.v.02'), Synset('change_integrity.v.01'), Synset('cook.v.03'), Synset('bake.v.01')]]\n",
      "[[Synset('make.v.03'), Synset('create_from_raw_material.v.01'), Synset('bake.v.02')]]\n",
      "[[Synset('change.v.01'), Synset('heat.v.01'), Synset('broil.v.02')]]\n",
      "[[Synset('be.v.01'), Synset('bake.v.04')]]\n",
      "\n",
      "[Synset('saute.v.01')]\n",
      "[[Synset('change.v.02'), Synset('change_integrity.v.01'), Synset('cook.v.03'), Synset('fry.v.02'), Synset('saute.v.01')]]\n",
      "\n",
      "[<NounType.MEASURE: 3>]\n",
      "[<NounType.TOOL: 5>]\n",
      "[<NounType.FOOD: 2>, <NounType.TOOL: 5>]\n",
      "[]\n"
     ]
    }
   ],
   "source": [
    "from nltk.corpus import wordnet as wn\n",
    "\n",
    "def print_hypernym_paths(noun: str):\n",
    "    mix_sets = wn.synsets(noun, wn.NOUN)\n",
    "    print(mix_sets)\n",
    "    for s in mix_sets:\n",
    "        print(s.hypernym_paths())\n",
    "    print()\n",
    "\n",
    "def print_verb_paths(verb: str):\n",
    "    sets = wn.synsets(verb, wn.VERB)\n",
    "    print(sets)\n",
    "    for s in sets:\n",
    "        print(s.hypernym_paths())\n",
    "    print()\n",
    "\n",
    "print_verb_paths(\"scald\")\n",
    "print_verb_paths(\"bake\")\n",
    "print_verb_paths(\"saute\")\n",
    "print(u.NounType.from_str(\"season\"))\n",
    "print(u.NounType.from_str(\"tin\"))\n",
    "print(u.NounType.from_str(\"mixer\"))\n",
    "print(u.NounType.from_str(\"men\"))"
   ]
  }
 ],
 "metadata": {
  "kernelspec": {
   "display_name": "Python 3",
   "language": "python",
   "name": "python3"
  },
  "language_info": {
   "codemirror_mode": {
    "name": "ipython",
    "version": 3
   },
   "file_extension": ".py",
   "mimetype": "text/x-python",
   "name": "python",
   "nbconvert_exporter": "python",
   "pygments_lexer": "ipython3",
   "version": "3.10.2"
  }
 },
 "nbformat": 4,
 "nbformat_minor": 2
}
