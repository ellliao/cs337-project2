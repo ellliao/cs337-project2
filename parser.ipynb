{
 "cells": [
  {
   "cell_type": "code",
   "execution_count": 1,
   "metadata": {},
   "outputs": [
    {
     "name": "stdout",
     "output_type": "stream",
     "text": [
      "Requirement already satisfied: requests in /Library/Frameworks/Python.framework/Versions/3.10/lib/python3.10/site-packages (2.32.3)\n",
      "Requirement already satisfied: charset-normalizer<4,>=2 in /Library/Frameworks/Python.framework/Versions/3.10/lib/python3.10/site-packages (from requests) (3.4.0)\n",
      "Requirement already satisfied: idna<4,>=2.5 in /Library/Frameworks/Python.framework/Versions/3.10/lib/python3.10/site-packages (from requests) (3.10)\n",
      "Requirement already satisfied: urllib3<3,>=1.21.1 in /Library/Frameworks/Python.framework/Versions/3.10/lib/python3.10/site-packages (from requests) (2.2.3)\n",
      "Requirement already satisfied: certifi>=2017.4.17 in /Library/Frameworks/Python.framework/Versions/3.10/lib/python3.10/site-packages (from requests) (2024.8.30)\n",
      "Note: you may need to restart the kernel to use updated packages.\n"
     ]
    }
   ],
   "source": [
    "%pip install requests"
   ]
  },
  {
   "cell_type": "code",
   "execution_count": 2,
   "metadata": {},
   "outputs": [
    {
     "name": "stdout",
     "output_type": "stream",
     "text": [
      "Collecting en-core-web-md==3.8.0\n",
      "  Downloading https://github.com/explosion/spacy-models/releases/download/en_core_web_md-3.8.0/en_core_web_md-3.8.0-py3-none-any.whl (33.5 MB)\n",
      "\u001b[2K     \u001b[90m━━━━━━━━━━━━━━━━━━━━━━━━━━━━━━━━━━━━━━━━\u001b[0m \u001b[32m33.5/33.5 MB\u001b[0m \u001b[31m3.7 MB/s\u001b[0m eta \u001b[36m0:00:00\u001b[0m00:01\u001b[0m00:01\u001b[0m\n",
      "\u001b[?25h\u001b[38;5;2m✔ Download and installation successful\u001b[0m\n",
      "You can now load the package via spacy.load('en_core_web_md')\n"
     ]
    }
   ],
   "source": [
    "!python3 -m spacy download en_core_web_md"
   ]
  },
  {
   "cell_type": "code",
   "execution_count": 3,
   "metadata": {},
   "outputs": [],
   "source": [
    "from fractions import Fraction\n",
    "import unicodedata\n",
    "\n",
    "def str_to_fraction(data: str):\n",
    "    sum = Fraction()\n",
    "    table = str.maketrans({u'⁄': '/'})\n",
    "    data = unicodedata.normalize('NFKD', data).translate(table).split()\n",
    "    for val in data:\n",
    "        sum += Fraction(val)\n",
    "    return sum\n",
    "\n",
    "def fraction_to_str(frac: Fraction):\n",
    "    if frac.denominator == 1:\n",
    "        return str(frac.numerator)\n",
    "    elif frac.numerator >= frac.denominator:\n",
    "        return ' '.join([str(frac.numerator // frac.denominator),\n",
    "                         str(Fraction(frac.numerator % frac.denominator,\n",
    "                                      frac.denominator))])\n",
    "    else:\n",
    "        return str(frac)"
   ]
  },
  {
   "cell_type": "code",
   "execution_count": 4,
   "metadata": {},
   "outputs": [],
   "source": [
    "class Ingredient:\n",
    "    '''Struct holding ingredient information'''\n",
    "\n",
    "    def __init__(self, name: str | None = None,\n",
    "                 quantity: Fraction | None = None,\n",
    "                 unit: str | None = None):\n",
    "        self.name = name\n",
    "        self.quantity = quantity\n",
    "        self.unit = unit\n",
    "\n",
    "class Step:\n",
    "    '''Struct holding step information'''\n",
    "\n",
    "    def __init__(self, text: str):\n",
    "        self.text = text\n",
    "        self.ingredients = []\n",
    "        self.tools = []\n",
    "        self.methods = []\n",
    "        self.times = []\n",
    "    \n",
    "class Recipe:\n",
    "    '''Struct holding recipe information'''\n",
    "\n",
    "    def __init__(self):\n",
    "        self.ingredients = []\n",
    "        self.steps = []\n",
    "        self.other = {}"
   ]
  },
  {
   "cell_type": "code",
   "execution_count": null,
   "metadata": {},
   "outputs": [],
   "source": [
    "import re\n",
    "import spacy\n",
    "nlp = spacy.load(\"en_core_web_md\")\n",
    "\n",
    "def parse_and_add_step(instr: str, recipe: Recipe) -> None:\n",
    "    '''Parses an instruction into maybe more steps and adds to recipe.'''\n",
    "\n",
    "    # Split recipe instruction into \"sentences\" for SpaCy parser\n",
    "    steps = re.split(r'(?:\\.|;|, then)\\s+', instr)\n",
    "\n",
    "    for text in steps:\n",
    "\n",
    "        # Skip if empty\n",
    "        if not text:\n",
    "            continue\n",
    "\n",
    "        # Form a nice sentence for the step text, and initialize step\n",
    "        text = ''.join([text[0].upper(), text[1:len(text)]])\n",
    "        if not text.endswith('.'):\n",
    "            text = ''.join([text, '.'])\n",
    "        step = Step(text)\n",
    "\n",
    "        # Uncapitalize the first letter. This prevents SpaCy from reading the\n",
    "        # first word as a proper noun (imperative sentences are less common in\n",
    "        # its dataset).\n",
    "        text = ''.join([text[0].lower(), text[1:len(text)]])\n",
    "\n",
    "        # Based on the dependency + part of speech tagging, extract necessary\n",
    "        # information.\n",
    "        doc = nlp(text)\n",
    "        for token in doc:\n",
    "\n",
    "            # If the parser didn't interpret this as an imperative sentence,\n",
    "            # correct it.\n",
    "            if token.dep_ == 'ROOT' and token.head.pos_ == 'NOUN':\n",
    "                doc[0].dep_ = 'ROOT'\n",
    "                token.dep_ = 'dobj'\n",
    "                step.methods.append(doc[0].text)\n",
    "\n",
    "            # Perform extraction\n",
    "            dep = token.dep_\n",
    "            match dep:\n",
    "                case 'ROOT':\n",
    "                    step.methods.append(token.text)\n",
    "                case 'conj':\n",
    "                    if token.head.pos_ == 'VERB':\n",
    "                        step.methods.append(token.text)\n",
    "\n",
    "        # Save step to recipe\n",
    "        recipe.steps.append(step)"
   ]
  },
  {
   "cell_type": "code",
   "execution_count": 6,
   "metadata": {},
   "outputs": [],
   "source": [
    "from html.parser import HTMLParser\n",
    "from enums import RecipeSource, HTMLTag\n",
    "\n",
    "class RecipeHTMLParser(HTMLParser):\n",
    "    '''HTML parser that handles recipes'''\n",
    "\n",
    "    def __init__(self, source: RecipeSource, convert_charrefs: bool = True) -> None:\n",
    "        # Initialize class, setting recipe to empty\n",
    "        self.source = source\n",
    "        self.recipe = Recipe()\n",
    "        self.current_tag = HTMLTag.UNKNOWN\n",
    "        super().__init__(convert_charrefs=convert_charrefs)\n",
    "    \n",
    "    def handle_starttag(self, tag: str, attrs: list[tuple[str, str | None]]) -> None:\n",
    "        # Save the current tag\n",
    "        self.current_tag = HTMLTag.from_tag(self.source, tag, attrs)\n",
    "        match self.current_tag:\n",
    "            case HTMLTag.INGREDIENT:\n",
    "                self.ingredient = Ingredient()\n",
    "        return super().handle_starttag(tag, attrs)\n",
    "    \n",
    "    def handle_data(self, data: str) -> None:\n",
    "        # Handle text between tags as appropriate\n",
    "        match self.current_tag:\n",
    "            case HTMLTag.OVERVIEW_LABEL:\n",
    "                self.label = data.lower().strip(':,.! \\n\\t')\n",
    "            case HTMLTag.OVERVIEW_TEXT:\n",
    "                self.recipe.other[self.label] = data.strip()\n",
    "            case HTMLTag.INGREDIENT_QUANTITY:\n",
    "                self.ingredient.quantity = str_to_fraction(data.strip())\n",
    "            case HTMLTag.INGREDIENT_UNIT:\n",
    "                self.ingredient.unit = data.strip()\n",
    "            case HTMLTag.INGREDIENT_NAME:\n",
    "                self.ingredient.name = data.strip()\n",
    "                self.recipe.ingredients.append(self.ingredient)\n",
    "            case HTMLTag.STEP:\n",
    "                parse_and_add_step(data.strip(), self.recipe)\n",
    "        return super().handle_data(data)\n",
    "\n",
    "    def handle_endtag(self, tag: str) -> None:\n",
    "        # Reset tag\n",
    "        self.current_tag = HTMLTag.UNKNOWN\n",
    "        return super().handle_endtag(tag)"
   ]
  },
  {
   "cell_type": "code",
   "execution_count": 7,
   "metadata": {},
   "outputs": [],
   "source": [
    "import re\n",
    "import requests\n",
    "\n",
    "def get_recipe_from_url(url: str) -> Recipe | None:\n",
    "    '''Retrieves the text of a recipe from a given URL'''\n",
    "\n",
    "    # Find recipe source; return None if unsupported\n",
    "    source = RecipeSource.from_url(url)\n",
    "    if source == RecipeSource.UNKNOWN:\n",
    "        return None\n",
    "\n",
    "    # Add appropriate HTTPS tag if not there\n",
    "    if not re.match(r'https://www\\.', url):\n",
    "        if re.match(r'www\\.', url):\n",
    "            url = ''.join(['https://', url])\n",
    "        else:\n",
    "            url = ''.join(['https://www.', url])\n",
    "    \n",
    "    # Get the recipe from the page\n",
    "    with requests.get(url) as f:\n",
    "        parser = RecipeHTMLParser(source)\n",
    "        parser.feed(f.text)\n",
    "        return parser.recipe"
   ]
  },
  {
   "cell_type": "code",
   "execution_count": 12,
   "metadata": {},
   "outputs": [
    {
     "name": "stdout",
     "output_type": "stream",
     "text": [
      "Lay eggplant slices on paper towels. ['lay']\n",
      "Sprinkle lightly with salt. ['sprinkle']\n",
      "Let sit for 30 minutes to draw out moisture. ['sit']\n",
      "Pat dry with paper towels. ['pat']\n",
      "Warm olive oil in a skillet over high heat. ['warm']\n",
      "Fry eggplant until browned, 2 to 3 minutes per side. ['fry']\n",
      "Drain on paper towels. ['drain']\n",
      "Set aside. ['set']\n",
      "Melt 1 tablespoon butter in a large skillet over medium heat. ['melt']\n",
      "Stir in ground beef, onions, and garlic. ['stir']\n",
      "Season with salt and black pepper. ['season']\n",
      "Cook and stir until beef is browned, 8 to 10 minutes. ['cook', 'stir']\n",
      "Add parsley, fines herbs, cinnamon, and 1/4 teaspoon nutmeg. ['add']\n",
      "Pour in tomato sauce and wine. ['pour']\n",
      "Mix well. ['mix']\n",
      "Simmer for 20 minutes. ['simmer']\n",
      "Allow to cool. ['allow']\n",
      "Stir in beaten egg. ['stir']\n",
      "Scald milk in a saucepan over medium heat. ['scald']\n",
      "At the same time, melt 1/2 cup butter in a large skillet over medium heat. ['melt']\n",
      "Whisk flour into butter until smooth. ['whisk']\n",
      "Lower heat. ['lower']\n",
      "Gradually pour in scalded milk, whisking constantly until it thickens. ['pour']\n",
      "Season béchamel sauce with salt and white pepper. ['season']\n",
      "Preheat the oven to 350 degrees F (175 degrees C). ['preheat']\n",
      "Grease a 9x13-inch baking dish. ['grease']\n",
      "Arrange a single layer of eggplant in the prepared baking dish. ['arrange']\n",
      "Cover eggplant with meat sauce. ['cover']\n",
      "Sprinkle 1/2 cup Parmesan cheese on top. ['sprinkle']\n",
      "Cover with remaining eggplant and sprinkle another 1/2 cup cheese on top. ['cover', 'sprinkle']\n",
      "Pour béchamel sauce on top and sprinkle with remaining 1/4 teaspoon nutmeg. ['pour', 'sprinkle']\n",
      "Cover with remaining cheese. ['cover']\n",
      "Bake in the preheated oven until bubbly and browned, about 1 hour. ['bake']\n",
      "Serve hot and enjoy!. ['serve']\n"
     ]
    }
   ],
   "source": [
    "recipe = get_recipe_from_url(\"https://www.allrecipes.com/recipe/19644/moussaka/\")\n",
    "for step in recipe.steps:\n",
    "    print(step.text, step.methods)"
   ]
  },
  {
   "cell_type": "code",
   "execution_count": 10,
   "metadata": {},
   "outputs": [
    {
     "name": "stdout",
     "output_type": "stream",
     "text": [
      "season compound sauce NOUN []\n",
      "béchamel compound sauce NOUN []\n",
      "sauce ROOT sauce NOUN [season, béchamel, with]\n",
      "with prep sauce NOUN [pepper]\n",
      "salt nmod pepper NOUN [and, white]\n",
      "and cc salt NOUN []\n",
      "white conj salt NOUN []\n",
      "pepper pobj with ADP [salt]\n",
      "\n",
      "season béchamel sauce sauce ROOT sauce\n",
      "salt and white pepper pepper pobj with\n"
     ]
    }
   ],
   "source": [
    "import spacy\n",
    "nlp = spacy.load(\"en_core_web_md\")\n",
    "\n",
    "# text = \"lay eggplant slices on paper towels\"\n",
    "# text = \"sprinkle lightly with salt.\"\n",
    "# text = \"cook and stir until beef is browned, 8 to 10 minutes\"\n",
    "# text = \"stir in ground beef, onions, and garlic\"\n",
    "# text = \"meanwhile, place ground beef, garlic, oregano, garlic powder, salt, and black pepper in a large skillet over medium heat\"\n",
    "# text = \"add lasagna noodles and cook for 10 minutes or until al dente\"\n",
    "# text = \"preheat the oven to 350 degrees F (175 degrees C)\"\n",
    "text = \"season béchamel sauce with salt and white pepper\"\n",
    "\n",
    "doc = nlp(text)\n",
    "for token in doc:\n",
    "    print(token.text, token.dep_, token.head.text, token.head.pos_,\n",
    "            [child for child in token.children])\n",
    "print()\n",
    "for chunk in doc.noun_chunks:\n",
    "    print(chunk.text, chunk.root.text, chunk.root.dep_,\n",
    "            chunk.root.head.text)"
   ]
  }
 ],
 "metadata": {
  "kernelspec": {
   "display_name": "Python 3",
   "language": "python",
   "name": "python3"
  },
  "language_info": {
   "codemirror_mode": {
    "name": "ipython",
    "version": 3
   },
   "file_extension": ".py",
   "mimetype": "text/x-python",
   "name": "python",
   "nbconvert_exporter": "python",
   "pygments_lexer": "ipython3",
   "version": "3.10.2"
  }
 },
 "nbformat": 4,
 "nbformat_minor": 2
}
