{
 "cells": [
  {
   "cell_type": "code",
   "execution_count": 1,
   "metadata": {},
   "outputs": [
    {
     "name": "stdout",
     "output_type": "stream",
     "text": [
      "Requirement already satisfied: requests in /Library/Frameworks/Python.framework/Versions/3.10/lib/python3.10/site-packages (2.32.3)\n",
      "Requirement already satisfied: charset-normalizer<4,>=2 in /Library/Frameworks/Python.framework/Versions/3.10/lib/python3.10/site-packages (from requests) (3.4.0)\n",
      "Requirement already satisfied: idna<4,>=2.5 in /Library/Frameworks/Python.framework/Versions/3.10/lib/python3.10/site-packages (from requests) (3.10)\n",
      "Requirement already satisfied: urllib3<3,>=1.21.1 in /Library/Frameworks/Python.framework/Versions/3.10/lib/python3.10/site-packages (from requests) (2.2.3)\n",
      "Requirement already satisfied: certifi>=2017.4.17 in /Library/Frameworks/Python.framework/Versions/3.10/lib/python3.10/site-packages (from requests) (2024.8.30)\n",
      "Note: you may need to restart the kernel to use updated packages.\n"
     ]
    }
   ],
   "source": [
    "%pip install requests"
   ]
  },
  {
   "cell_type": "code",
   "execution_count": 2,
   "metadata": {},
   "outputs": [],
   "source": [
    "from fractions import Fraction\n",
    "import unicodedata\n",
    "\n",
    "def str_to_fraction(data: str):\n",
    "    sum = Fraction()\n",
    "    table = str.maketrans({u'⁄': '/'})\n",
    "    data = unicodedata.normalize('NFKD', data).translate(table).split()\n",
    "    for val in data:\n",
    "        sum += Fraction(val)\n",
    "    return sum\n",
    "\n",
    "def fraction_to_str(frac: Fraction):\n",
    "    if frac.denominator == 1:\n",
    "        return str(frac.numerator)\n",
    "    elif frac.numerator >= frac.denominator:\n",
    "        return ' '.join([str(frac.numerator // frac.denominator),\n",
    "                         str(Fraction(frac.numerator % frac.denominator,\n",
    "                                      frac.denominator))])\n",
    "    else:\n",
    "        return str(frac)"
   ]
  },
  {
   "cell_type": "code",
   "execution_count": 3,
   "metadata": {},
   "outputs": [],
   "source": [
    "from html.parser import HTMLParser\n",
    "from enums import RecipeSource, HTMLTag\n",
    "\n",
    "# Set up recipe HTML parser\n",
    "class RecipeHTMLParser(HTMLParser):\n",
    "\n",
    "    # Initialize class, setting recipe to empty\n",
    "    def __init__(self, source: RecipeSource, convert_charrefs: bool = True) -> None:\n",
    "        self.source = source\n",
    "        self.recipe = {'ingredients': [], 'steps': []}\n",
    "        self.current_tag = HTMLTag.UNKNOWN\n",
    "        super().__init__(convert_charrefs=convert_charrefs)\n",
    "    \n",
    "    # Save the current tag\n",
    "    def handle_starttag(self, tag: str, attrs: list[tuple[str, str | None]]) -> None:\n",
    "        self.current_tag = HTMLTag.from_tag(self.source, tag, attrs)\n",
    "        match self.current_tag:\n",
    "            case HTMLTag.INGREDIENT:\n",
    "                self.ingredient = {}\n",
    "        return super().handle_starttag(tag, attrs)\n",
    "    \n",
    "    # Handle text between tags as appropriate\n",
    "    def handle_data(self, data: str) -> None:\n",
    "        match self.current_tag:\n",
    "            case HTMLTag.OVERVIEW_LABEL:\n",
    "                self.label = data.lower().strip(':,.! \\n\\t')\n",
    "            case HTMLTag.OVERVIEW_TEXT:\n",
    "                self.recipe[self.label] = data.strip()\n",
    "            case HTMLTag.INGREDIENT_QUANTITY:\n",
    "                self.ingredient['quantity'] = str_to_fraction(data)\n",
    "            case HTMLTag.INGREDIENT_UNIT:\n",
    "                self.ingredient['unit'] = data\n",
    "            case HTMLTag.INGREDIENT_NAME:\n",
    "                self.ingredient['name'] = data\n",
    "                self.recipe['ingredients'].append(self.ingredient)\n",
    "            case HTMLTag.STEP:\n",
    "                self.recipe['steps'].append(data.strip())\n",
    "        return super().handle_data(data)\n",
    "\n",
    "    # Reset tag\n",
    "    def handle_endtag(self, tag: str) -> None:\n",
    "        self.current_tag = HTMLTag.UNKNOWN\n",
    "        return super().handle_endtag(tag)"
   ]
  },
  {
   "cell_type": "code",
   "execution_count": null,
   "metadata": {},
   "outputs": [],
   "source": [
    "import re\n",
    "import requests\n",
    "\n",
    "# Retrieves the text of a recipe from a given URL\n",
    "def get_recipe_from_url(url: str) -> dict | None:\n",
    "\n",
    "    # Find recipe source; return None if unsupported\n",
    "    source = RecipeSource.from_url(url)\n",
    "    if source == RecipeSource.UNKNOWN:\n",
    "        return None\n",
    "\n",
    "    # Add appropriate HTTPS tag if not there\n",
    "    if not re.match(r'https://www\\.', url):\n",
    "        if re.match(r'www\\.', url):\n",
    "            url = ''.join(['https://', url])\n",
    "        else:\n",
    "            url = ''.join(['https://www.', url])\n",
    "    \n",
    "    # Get the recipe from the page\n",
    "    with requests.get(url) as f:\n",
    "        parser = RecipeHTMLParser(source)\n",
    "        parser.feed(f.text)\n",
    "        return parser.recipe"
   ]
  },
  {
   "cell_type": "code",
   "execution_count": 5,
   "metadata": {},
   "outputs": [
    {
     "data": {
      "text/plain": [
       "{'ingredients': [{'quantity': Fraction(3, 1),\n",
       "   'name': 'eggplants, peeled and cut lengthwise into 1/2 inch thick slices'},\n",
       "  {'name': 'salt to taste'},\n",
       "  {'quantity': Fraction(1, 4), 'unit': 'cup', 'name': 'olive oil'},\n",
       "  {'quantity': Fraction(1, 1), 'unit': 'tablespoon', 'name': 'butter'},\n",
       "  {'quantity': Fraction(1, 1), 'unit': 'pound', 'name': 'lean ground beef'},\n",
       "  {'quantity': Fraction(2, 1), 'name': 'onions, chopped'},\n",
       "  {'quantity': Fraction(1, 1), 'unit': 'clove', 'name': 'garlic, minced'},\n",
       "  {'name': 'ground black pepper to taste'},\n",
       "  {'quantity': Fraction(2, 1), 'unit': 'tablespoons', 'name': 'dried parsley'},\n",
       "  {'quantity': Fraction(1, 2), 'unit': 'teaspoon', 'name': 'fines herbs'},\n",
       "  {'quantity': Fraction(1, 4), 'unit': 'teaspoon', 'name': 'ground cinnamon'},\n",
       "  {'quantity': Fraction(1, 2),\n",
       "   'unit': 'teaspoon',\n",
       "   'name': 'ground nutmeg, divided'},\n",
       "  {'quantity': Fraction(1, 1),\n",
       "   'unit': '(8 ounce) can',\n",
       "   'name': 'tomato sauce'},\n",
       "  {'quantity': Fraction(1, 2), 'unit': 'cup', 'name': 'red wine'},\n",
       "  {'quantity': Fraction(1, 1), 'name': 'egg, beaten'},\n",
       "  {'quantity': Fraction(4, 1), 'unit': 'cups', 'name': 'milk'},\n",
       "  {'quantity': Fraction(1, 2), 'unit': 'cup', 'name': 'butter'},\n",
       "  {'quantity': Fraction(6, 1),\n",
       "   'unit': 'tablespoons',\n",
       "   'name': 'all-purpose flour'},\n",
       "  {'name': 'ground white pepper, to taste'},\n",
       "  {'quantity': Fraction(3, 2),\n",
       "   'unit': 'cups',\n",
       "   'name': 'freshly grated Parmesan cheese'}],\n",
       " 'steps': ['Lay eggplant slices on paper towels; sprinkle lightly with salt. Let sit for 30 minutes to draw out moisture, then pat dry with paper towels.',\n",
       "  'Warm olive oil in a skillet over high heat. Fry eggplant until browned, 2 to 3 minutes per side. Drain on paper towels; set aside.',\n",
       "  'Melt 1 tablespoon butter in a large skillet over medium heat. Stir in ground beef, onions, and garlic; season with salt and black pepper. Cook and stir until beef is browned, 8 to 10 minutes.',\n",
       "  'Add parsley, fines herbs, cinnamon, and 1/4 teaspoon nutmeg. Pour in tomato sauce and wine; mix well. Simmer for 20 minutes. Allow to cool, then stir in beaten egg.',\n",
       "  'Scald milk in a saucepan over medium heat.',\n",
       "  'At the same time, melt 1/2 cup butter in a large skillet over medium heat.',\n",
       "  'Whisk flour into butter until smooth. Lower heat; gradually pour in scalded milk, whisking constantly until it thickens. Season béchamel sauce with salt and white pepper.',\n",
       "  'Preheat the oven to 350 degrees F (175 degrees C). Grease a 9x13-inch baking dish.',\n",
       "  'Arrange a single layer of eggplant in the prepared baking dish.',\n",
       "  'Cover eggplant with meat sauce, then sprinkle 1/2 cup Parmesan cheese on top. Cover with remaining eggplant and sprinkle another 1/2 cup cheese on top.',\n",
       "  'Pour béchamel sauce on top and sprinkle with remaining 1/4 teaspoon nutmeg. Cover with remaining cheese.',\n",
       "  'Bake in the preheated oven until bubbly and browned, about 1 hour.',\n",
       "  'Serve hot and enjoy!'],\n",
       " 'prep time': '45 mins',\n",
       " 'cook time': '1 hr',\n",
       " 'total time': '1 hr 45 mins',\n",
       " 'servings': '8',\n",
       " 'yield': '1 9x13-inch moussaka'}"
      ]
     },
     "execution_count": 5,
     "metadata": {},
     "output_type": "execute_result"
    }
   ],
   "source": [
    "get_recipe_from_url(\"https://www.allrecipes.com/recipe/19644/moussaka/\")"
   ]
  }
 ],
 "metadata": {
  "kernelspec": {
   "display_name": "Python 3",
   "language": "python",
   "name": "python3"
  },
  "language_info": {
   "codemirror_mode": {
    "name": "ipython",
    "version": 3
   },
   "file_extension": ".py",
   "mimetype": "text/x-python",
   "name": "python",
   "nbconvert_exporter": "python",
   "pygments_lexer": "ipython3",
   "version": "3.10.2"
  }
 },
 "nbformat": 4,
 "nbformat_minor": 2
}
